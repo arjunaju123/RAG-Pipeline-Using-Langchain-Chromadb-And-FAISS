{
 "cells": [
  {
   "cell_type": "code",
   "execution_count": 1,
   "metadata": {},
   "outputs": [
    {
     "data": {
      "text/plain": [
       "2"
      ]
     },
     "execution_count": 1,
     "metadata": {},
     "output_type": "execute_result"
    }
   ],
   "source": [
    "1+1"
   ]
  },
  {
   "cell_type": "code",
   "execution_count": 2,
   "metadata": {},
   "outputs": [
    {
     "name": "stdout",
     "output_type": "stream",
     "text": [
      "Requirement already satisfied: arxiv in c:\\users\\arjun.sreekumar\\appdata\\local\\anaconda3\\envs\\rag_pipeline\\lib\\site-packages (2.1.0)\n",
      "Requirement already satisfied: feedparser==6.0.10 in c:\\users\\arjun.sreekumar\\appdata\\local\\anaconda3\\envs\\rag_pipeline\\lib\\site-packages (from arxiv) (6.0.10)\n",
      "Requirement already satisfied: requests==2.31.0 in c:\\users\\arjun.sreekumar\\appdata\\local\\anaconda3\\envs\\rag_pipeline\\lib\\site-packages (from arxiv) (2.31.0)\n",
      "Requirement already satisfied: sgmllib3k in c:\\users\\arjun.sreekumar\\appdata\\local\\anaconda3\\envs\\rag_pipeline\\lib\\site-packages (from feedparser==6.0.10->arxiv) (1.0.0)\n",
      "Requirement already satisfied: charset-normalizer<4,>=2 in c:\\users\\arjun.sreekumar\\appdata\\local\\anaconda3\\envs\\rag_pipeline\\lib\\site-packages (from requests==2.31.0->arxiv) (3.3.2)\n",
      "Requirement already satisfied: idna<4,>=2.5 in c:\\users\\arjun.sreekumar\\appdata\\local\\anaconda3\\envs\\rag_pipeline\\lib\\site-packages (from requests==2.31.0->arxiv) (3.6)\n",
      "Requirement already satisfied: urllib3<3,>=1.21.1 in c:\\users\\arjun.sreekumar\\appdata\\local\\anaconda3\\envs\\rag_pipeline\\lib\\site-packages (from requests==2.31.0->arxiv) (2.2.1)\n",
      "Requirement already satisfied: certifi>=2017.4.17 in c:\\users\\arjun.sreekumar\\appdata\\local\\anaconda3\\envs\\rag_pipeline\\lib\\site-packages (from requests==2.31.0->arxiv) (2024.2.2)\n"
     ]
    }
   ],
   "source": [
    "!pip install arxiv\n"
   ]
  },
  {
   "cell_type": "code",
   "execution_count": 3,
   "metadata": {},
   "outputs": [],
   "source": [
    "from langchain_community.tools import WikipediaQueryRun\n",
    "from langchain_community.utilities import WikipediaAPIWrapper"
   ]
  },
  {
   "cell_type": "code",
   "execution_count": 4,
   "metadata": {},
   "outputs": [
    {
     "name": "stdout",
     "output_type": "stream",
     "text": [
      "Requirement already satisfied: wikipedia in c:\\users\\arjun.sreekumar\\appdata\\local\\anaconda3\\envs\\rag_pipeline\\lib\\site-packages (1.4.0)\n",
      "Requirement already satisfied: beautifulsoup4 in c:\\users\\arjun.sreekumar\\appdata\\local\\anaconda3\\envs\\rag_pipeline\\lib\\site-packages (from wikipedia) (4.12.3)\n",
      "Requirement already satisfied: requests<3.0.0,>=2.0.0 in c:\\users\\arjun.sreekumar\\appdata\\local\\anaconda3\\envs\\rag_pipeline\\lib\\site-packages (from wikipedia) (2.31.0)\n",
      "Requirement already satisfied: charset-normalizer<4,>=2 in c:\\users\\arjun.sreekumar\\appdata\\local\\anaconda3\\envs\\rag_pipeline\\lib\\site-packages (from requests<3.0.0,>=2.0.0->wikipedia) (3.3.2)\n",
      "Requirement already satisfied: idna<4,>=2.5 in c:\\users\\arjun.sreekumar\\appdata\\local\\anaconda3\\envs\\rag_pipeline\\lib\\site-packages (from requests<3.0.0,>=2.0.0->wikipedia) (3.6)\n",
      "Requirement already satisfied: urllib3<3,>=1.21.1 in c:\\users\\arjun.sreekumar\\appdata\\local\\anaconda3\\envs\\rag_pipeline\\lib\\site-packages (from requests<3.0.0,>=2.0.0->wikipedia) (2.2.1)\n",
      "Requirement already satisfied: certifi>=2017.4.17 in c:\\users\\arjun.sreekumar\\appdata\\local\\anaconda3\\envs\\rag_pipeline\\lib\\site-packages (from requests<3.0.0,>=2.0.0->wikipedia) (2024.2.2)\n",
      "Requirement already satisfied: soupsieve>1.2 in c:\\users\\arjun.sreekumar\\appdata\\local\\anaconda3\\envs\\rag_pipeline\\lib\\site-packages (from beautifulsoup4->wikipedia) (2.5)\n"
     ]
    }
   ],
   "source": [
    "!pip install wikipedia"
   ]
  },
  {
   "cell_type": "code",
   "execution_count": 5,
   "metadata": {},
   "outputs": [],
   "source": [
    "api_wrapper = WikipediaAPIWrapper(top_k_results=1, doc_content_chars_max=200)\n",
    "wiki = WikipediaQueryRun(api_wrapper=api_wrapper)"
   ]
  },
  {
   "cell_type": "code",
   "execution_count": 6,
   "metadata": {},
   "outputs": [
    {
     "data": {
      "text/plain": [
       "'wikipedia'"
      ]
     },
     "execution_count": 6,
     "metadata": {},
     "output_type": "execute_result"
    }
   ],
   "source": [
    "wiki.name"
   ]
  },
  {
   "cell_type": "code",
   "execution_count": 7,
   "metadata": {},
   "outputs": [],
   "source": [
    "from langchain_community.document_loaders import WebBaseLoader\n",
    "from langchain_community.embeddings import OpenAIEmbeddings\n",
    "from langchain_community.embeddings import OllamaEmbeddings\n",
    "from langchain_community.vectorstores import FAISS\n",
    "from langchain.text_splitter import RecursiveCharacterTextSplitter"
   ]
  },
  {
   "cell_type": "code",
   "execution_count": 8,
   "metadata": {},
   "outputs": [],
   "source": [
    "\n",
    "## load,chunk and index the content of the html page\n",
    "\n",
    "loader=WebBaseLoader(\"https://python.langchain.com/docs/modules/tools/\")\n"
   ]
  },
  {
   "cell_type": "code",
   "execution_count": 69,
   "metadata": {},
   "outputs": [
    {
     "data": {
      "text/plain": [
       "[Document(page_content='\\n\\n\\n\\n\\nTools | 🦜️🔗 LangChain\\n\\n\\n\\n\\n\\n\\n\\nSkip to main contentComponentsIntegrationsGuidesAPI ReferenceMorePeopleVersioningContributingTemplatesCookbooksTutorialsYouTube🦜️🔗LangSmithLangSmith DocsLangServe GitHubTemplates GitHubTemplates HubLangChain HubJS/TS Docs💬SearchModel I/OPromptsChat modelsLLMsOutput parsersRetrievalDocument loadersText splittersEmbedding modelsVector storesRetrieversIndexingCompositionToolsToolkitsToolsDefining Custom ToolsTools as OpenAI FunctionsAgentsChainsMoreComponentsCompositionToolsOn this pageToolsTools are interfaces that an agent, chain, or LLM can use to interact\\nwith the world. They combine a few things:The name of the toolA description of what the tool isJSON schema of what the inputs to the tool areThe function to callWhether the result of a tool should be returned directly to the userIt is useful to have all this information because this information can\\nbe used to build action-taking systems! The name, description, and JSON\\nschema can be used to prompt the LLM so it knows how to specify what\\naction to take, and then the function to call is equivalent to taking\\nthat action.The simpler the input to a tool is, the easier it is for an LLM to be\\nable to use it. Many agents will only work with tools that have a single\\nstring input. For a list of agent types and which ones work with more\\ncomplicated inputs, please see this\\ndocumentationImportantly, the name, description, and JSON schema (if used) are all\\nused in the prompt. Therefore, it is really important that they are\\nclear and describe exactly how the tool should be used. You may need to\\nchange the default name, description, or JSON schema if the LLM is not\\nunderstanding how to use the tool.Default Tools\\u200bLet’s take a look at how to work with tools. To do this, we’ll work with\\na built in tool.from langchain_community.tools import WikipediaQueryRunfrom langchain_community.utilities import WikipediaAPIWrapperNow we initialize the tool. This is where we can configure it as we\\npleaseapi_wrapper = WikipediaAPIWrapper(top_k_results=1, doc_content_chars_max=100)tool = WikipediaQueryRun(api_wrapper=api_wrapper)This is the default nametool.name\\'Wikipedia\\'This is the default descriptiontool.description\\'A wrapper around Wikipedia. Useful for when you need to answer general questions about people, places, companies, facts, historical events, or other subjects. Input should be a search query.\\'This is the default JSON schema of the inputstool.args{\\'query\\': {\\'title\\': \\'Query\\', \\'type\\': \\'string\\'}}We can see if the tool should return directly to the usertool.return_directFalseWe can call this tool with a dictionary inputtool.run({\"query\": \"langchain\"})\\'Page: LangChain\\\\nSummary: LangChain is a framework designed to simplify the creation of applications \\'We can also call this tool with a single string input. We can do this\\nbecause this tool expects only a single input. If it required multiple\\ninputs, we would not be able to do that.tool.run(\"langchain\")\\'Page: LangChain\\\\nSummary: LangChain is a framework designed to simplify the creation of applications \\'Customizing Default Tools\\u200bWe can also modify the built in name, description, and JSON schema of\\nthe arguments.When defining the JSON schema of the arguments, it is important that the\\ninputs remain the same as the function, so you shouldn’t change that.\\nBut you can define custom descriptions for each input easily.from langchain_core.pydantic_v1 import BaseModel, Fieldclass WikiInputs(BaseModel):    \"\"\"Inputs to the wikipedia tool.\"\"\"    query: str = Field(        description=\"query to look up in Wikipedia, should be 3 or less words\"    )tool = WikipediaQueryRun(    name=\"wiki-tool\",    description=\"look up things in wikipedia\",    args_schema=WikiInputs,    api_wrapper=api_wrapper,    return_direct=True,)tool.name\\'wiki-tool\\'tool.description\\'look up things in wikipedia\\'tool.args{\\'query\\': {\\'title\\': \\'Query\\',  \\'description\\': \\'query to look up in Wikipedia, should be 3 or less words\\',  \\'type\\': \\'string\\'}}tool.return_directTruetool.run(\"langchain\")\\'Page: LangChain\\\\nSummary: LangChain is a framework designed to simplify the creation of applications \\'More Topics\\u200bThis was a quick introduction to tools in LangChain, but there is a lot\\nmore to learnBuilt-In Tools: For a list of all\\nbuilt-in tools, see this pageCustom Tools: Although built-in tools are useful,\\nit’s highly likely that you’ll have to define your own tools. See this\\nguide for instructions on how to do so.Toolkits: Toolkits are collections of tools that work\\nwell together. For a more in depth description as well as a list of all\\nbuilt-in toolkits, see this pageTools as OpenAI Functions: Tools are\\nvery similar to OpenAI Functions, and can easily be converted to that\\nformat. See this notebook for\\ninstructions on how to do that.Help us out by providing feedback on this documentation page:PreviousCompositionNextToolkitsDefault ToolsCustomizing Default ToolsMore TopicsCommunityDiscordTwitterGitHubPythonJS/TSMoreHomepageBlogYouTubeCopyright © 2024 LangChain, Inc.\\n\\n\\n\\n', metadata={'source': 'https://python.langchain.com/docs/modules/tools/', 'title': 'Tools | 🦜️🔗 LangChain', 'description': 'Tools are interfaces that an agent, chain, or LLM can use to interact', 'language': 'en'})]"
      ]
     },
     "execution_count": 69,
     "metadata": {},
     "output_type": "execute_result"
    }
   ],
   "source": [
    "docs=loader.load()\n",
    "docs"
   ]
  },
  {
   "cell_type": "code",
   "execution_count": 10,
   "metadata": {},
   "outputs": [
    {
     "data": {
      "text/plain": [
       "[Document(page_content='\\n\\n\\n\\n\\nTools | 🦜️🔗 LangChain\\n\\n\\n\\n\\n\\n\\n\\nSkip to main contentComponentsIntegrationsGuidesAPI ReferenceMorePeopleVersioningContributingTemplatesCookbooksTutorialsYouTube🦜️🔗LangSmithLangSmith DocsLangServe GitHubTemplates GitHubTemplates HubLangChain HubJS/TS Docs💬SearchModel I/OPromptsChat modelsLLMsOutput parsersRetrievalDocument loadersText splittersEmbedding modelsVector storesRetrieversIndexingCompositionToolsToolkitsToolsDefining Custom ToolsTools as OpenAI FunctionsAgentsChainsMoreComponentsCompositionToolsOn this pageToolsTools are interfaces that an agent, chain, or LLM can use to interact\\nwith the world. They combine a few things:The name of the toolA description of what the tool isJSON schema of what the inputs to the tool areThe function to callWhether the result of a tool should be returned directly to the userIt is useful to have all this information because this information can\\nbe used to build action-taking systems! The name, description, and JSON\\nschema can be used to prompt the LLM so it knows how to specify what\\naction to take, and then the function to call is equivalent to taking\\nthat action.The simpler the input to a tool is, the easier it is for an LLM to be\\nable to use it. Many agents will only work with tools that have a single\\nstring input. For a list of agent types and which ones work with more\\ncomplicated inputs, please see this\\ndocumentationImportantly, the name, description, and JSON schema (if used) are all\\nused in the prompt. Therefore, it is really important that they are\\nclear and describe exactly how the tool should be used. You may need to\\nchange the default name, description, or JSON schema if the LLM is not\\nunderstanding how to use the tool.Default Tools\\u200bLet’s take a look at how to work with tools. To do this, we’ll work with\\na built in tool.from langchain_community.tools import WikipediaQueryRunfrom langchain_community.utilities import WikipediaAPIWrapperNow we initialize the tool. This is where we can configure it as we\\npleaseapi_wrapper = WikipediaAPIWrapper(top_k_results=1, doc_content_chars_max=100)tool = WikipediaQueryRun(api_wrapper=api_wrapper)This is the default nametool.name\\'Wikipedia\\'This is the default descriptiontool.description\\'A wrapper around Wikipedia. Useful for when you need to answer general questions about people, places, companies, facts, historical events, or other subjects. Input should be a search query.\\'This is the default JSON schema of the inputstool.args{\\'query\\': {\\'title\\': \\'Query\\', \\'type\\': \\'string\\'}}We can see if the tool should return directly to the usertool.return_directFalseWe can call this tool with a dictionary inputtool.run({\"query\": \"langchain\"})\\'Page: LangChain\\\\nSummary: LangChain is a framework designed to simplify the creation of applications \\'We can also call this tool with a single string input. We can do this\\nbecause this tool expects only a single input. If it required multiple\\ninputs, we would not be able to do that.tool.run(\"langchain\")\\'Page: LangChain\\\\nSummary: LangChain is a framework designed to simplify the creation of applications \\'Customizing Default Tools\\u200bWe can also modify the built in name, description, and JSON schema of\\nthe arguments.When defining the JSON schema of the arguments, it is important that the\\ninputs remain the same as the function, so you shouldn’t change that.\\nBut you can define custom descriptions for each input easily.from langchain_core.pydantic_v1 import BaseModel, Fieldclass WikiInputs(BaseModel):    \"\"\"Inputs to the wikipedia tool.\"\"\"    query: str = Field(        description=\"query to look up in Wikipedia, should be 3 or less words\"    )tool = WikipediaQueryRun(    name=\"wiki-tool\",    description=\"look up things in wikipedia\",    args_schema=WikiInputs,    api_wrapper=api_wrapper,    return_direct=True,)tool.name\\'wiki-tool\\'tool.description\\'look up things in wikipedia\\'tool.args{\\'query\\': {\\'title\\': \\'Query\\',  \\'description\\': \\'query to look up in Wikipedia, should be 3 or less words\\',  \\'type\\': \\'string\\'}}tool.return_directTruetool.run(\"langchain\")\\'Page: LangChain\\\\nSummary: LangChain is a framework designed to simplify the creation of applications \\'More Topics\\u200bThis was a quick introduction to tools in LangChain, but there is a lot\\nmore to learnBuilt-In Tools: For a list of all\\nbuilt-in tools, see this pageCustom Tools: Although built-in tools are useful,\\nit’s highly likely that you’ll have to define your own tools. See this\\nguide for instructions on how to do so.Toolkits: Toolkits are collections of tools that work\\nwell together. For a more in depth description as well as a list of all\\nbuilt-in toolkits, see this pageTools as OpenAI Functions: Tools are\\nvery similar to OpenAI Functions, and can easily be converted to that\\nformat. See this notebook for\\ninstructions on how to do that.Help us out by providing feedback on this documentation page:PreviousCompositionNextToolkitsDefault ToolsCustomizing Default ToolsMore TopicsCommunityDiscordTwitterGitHubPythonJS/TSMoreHomepageBlogYouTubeCopyright © 2024 LangChain, Inc.\\n\\n\\n\\n', metadata={'source': 'https://python.langchain.com/docs/modules/tools/', 'title': 'Tools | 🦜️🔗 LangChain', 'description': 'Tools are interfaces that an agent, chain, or LLM can use to interact', 'language': 'en'})]"
      ]
     },
     "execution_count": 10,
     "metadata": {},
     "output_type": "execute_result"
    }
   ],
   "source": [
    "docs"
   ]
  },
  {
   "cell_type": "code",
   "execution_count": 70,
   "metadata": {},
   "outputs": [],
   "source": [
    "text_splitter=RecursiveCharacterTextSplitter(chunk_size=1000,chunk_overlap=200)\n",
    "documents=text_splitter.split_documents(docs)"
   ]
  },
  {
   "cell_type": "code",
   "execution_count": 71,
   "metadata": {},
   "outputs": [],
   "source": [
    "import getpass\n",
    "import os\n",
    "\n",
    "if \"GOOGLE_API_KEY\" not in os.environ:\n",
    "    os.environ[\"GOOGLE_API_KEY\"] = getpass.getpass(\"Provide your Google API Key\")"
   ]
  },
  {
   "cell_type": "code",
   "execution_count": 109,
   "metadata": {},
   "outputs": [],
   "source": [
    "from dotenv import load_dotenv\n",
    "#import google.generativeai as genai\n",
    "from langchain_google_genai import ChatGoogleGenerativeAI\n",
    "\n",
    "load_dotenv()\n",
    "import os\n",
    "os.getenv(\"GOOGLE_API_KEY\")\n",
    "\n",
    "#genai.configure(api_key=os.getenv(\"GOOGLE_API_KEY\"))\n",
    "\n",
    "#llm = genai.GenerativeModel('gemini-pro')\n",
    "llm = ChatGoogleGenerativeAI(model=\"gemini-pro\",convert_system_message_to_human=True, transport='rest')\n"
   ]
  },
  {
   "cell_type": "code",
   "execution_count": 110,
   "metadata": {},
   "outputs": [
    {
     "data": {
      "text/plain": [
       "ChatGoogleGenerativeAI(model='gemini-pro', client=genai.GenerativeModel(\n",
       "    model_name='models/gemini-pro',\n",
       "    generation_config={},\n",
       "    safety_settings={},\n",
       "    tools=None,\n",
       "    system_instruction=None,\n",
       "), convert_system_message_to_human=True)"
      ]
     },
     "execution_count": 110,
     "metadata": {},
     "output_type": "execute_result"
    }
   ],
   "source": [
    "llm"
   ]
  },
  {
   "cell_type": "code",
   "execution_count": 35,
   "metadata": {},
   "outputs": [
    {
     "data": {
      "text/plain": [
       "ChatOpenAI(client=<openai.resources.chat.completions.Completions object at 0x000001E78ABEED70>, async_client=<openai.resources.chat.completions.AsyncCompletions object at 0x000001E78AC10250>, model_name='gpt-3.5-turbo-1106', temperature=0.0, openai_api_key=SecretStr('**********'), openai_proxy='')"
      ]
     },
     "execution_count": 35,
     "metadata": {},
     "output_type": "execute_result"
    }
   ],
   "source": [
    "# from langchain_openai import ChatOpenAI\n",
    "# llm = ChatOpenAI(model=\"gpt-3.5-turbo-1106\", temperature=0)\n",
    "# llm"
   ]
  },
  {
   "cell_type": "code",
   "execution_count": 75,
   "metadata": {},
   "outputs": [],
   "source": [
    "## FAISS Vector Database\n",
    "from langchain_community.vectorstores import FAISS\n",
    "vector_db = FAISS.from_documents(documents[:15], OllamaEmbeddings())"
   ]
  },
  {
   "cell_type": "code",
   "execution_count": 111,
   "metadata": {},
   "outputs": [
    {
     "data": {
      "text/plain": [
       "VectorStoreRetriever(tags=['FAISS', 'OllamaEmbeddings'], vectorstore=<langchain_community.vectorstores.faiss.FAISS object at 0x000001E78C1E5030>)"
      ]
     },
     "execution_count": 111,
     "metadata": {},
     "output_type": "execute_result"
    }
   ],
   "source": [
    "retriever=vector_db.as_retriever()\n",
    "retriever"
   ]
  },
  {
   "cell_type": "code",
   "execution_count": 112,
   "metadata": {},
   "outputs": [],
   "source": [
    "from langchain.tools.retriever import create_retriever_tool\n",
    "retriever_tool=create_retriever_tool(retriever,\"langchain_tools\",\"give difference between langchain tools and langchain chains\")"
   ]
  },
  {
   "cell_type": "code",
   "execution_count": 113,
   "metadata": {},
   "outputs": [
    {
     "data": {
      "text/plain": [
       "'langchain_tools'"
      ]
     },
     "execution_count": 113,
     "metadata": {},
     "output_type": "execute_result"
    }
   ],
   "source": [
    "retriever_tool.name"
   ]
  },
  {
   "cell_type": "code",
   "execution_count": 114,
   "metadata": {},
   "outputs": [],
   "source": [
    "from langchain_community.utilities import ArxivAPIWrapper\n",
    "from langchain_community.tools import ArxivQueryRun"
   ]
  },
  {
   "cell_type": "code",
   "execution_count": 115,
   "metadata": {},
   "outputs": [],
   "source": [
    "arxiv_wrapper = ArxivAPIWrapper(top_k_results=1,doc_content_chars_max=200)\n",
    "arxiv=ArxivQueryRun(api_wrapper=arxiv_wrapper)"
   ]
  },
  {
   "cell_type": "code",
   "execution_count": 116,
   "metadata": {},
   "outputs": [
    {
     "data": {
      "text/plain": [
       "'arxiv'"
      ]
     },
     "execution_count": 116,
     "metadata": {},
     "output_type": "execute_result"
    }
   ],
   "source": [
    "arxiv.name"
   ]
  },
  {
   "cell_type": "code",
   "execution_count": 117,
   "metadata": {},
   "outputs": [
    {
     "data": {
      "text/plain": [
       "ArxivQueryRun(api_wrapper=ArxivAPIWrapper(arxiv_search=<class 'arxiv.Search'>, arxiv_exceptions=(<class 'arxiv.ArxivError'>, <class 'arxiv.UnexpectedEmptyPageError'>, <class 'arxiv.HTTPError'>), top_k_results=1, ARXIV_MAX_QUERY_LENGTH=300, load_max_docs=100, load_all_available_meta=False, doc_content_chars_max=200, arxiv_result=<class 'arxiv.Result'>))"
      ]
     },
     "execution_count": 117,
     "metadata": {},
     "output_type": "execute_result"
    }
   ],
   "source": [
    "arxiv"
   ]
  },
  {
   "cell_type": "code",
   "execution_count": 118,
   "metadata": {},
   "outputs": [
    {
     "data": {
      "text/plain": [
       "[WikipediaQueryRun(api_wrapper=WikipediaAPIWrapper(wiki_client=<module 'wikipedia' from 'c:\\\\Users\\\\arjun.sreekumar\\\\AppData\\\\Local\\\\anaconda3\\\\envs\\\\rag_pipeline\\\\lib\\\\site-packages\\\\wikipedia\\\\__init__.py'>, top_k_results=1, lang='en', load_all_available_meta=False, doc_content_chars_max=200)),\n",
       " ArxivQueryRun(api_wrapper=ArxivAPIWrapper(arxiv_search=<class 'arxiv.Search'>, arxiv_exceptions=(<class 'arxiv.ArxivError'>, <class 'arxiv.UnexpectedEmptyPageError'>, <class 'arxiv.HTTPError'>), top_k_results=1, ARXIV_MAX_QUERY_LENGTH=300, load_max_docs=100, load_all_available_meta=False, doc_content_chars_max=200, arxiv_result=<class 'arxiv.Result'>)),\n",
       " Tool(name='langchain_tools', description='give difference between langchain tools and langchain chains', args_schema=<class 'langchain.tools.retriever.RetrieverInput'>, func=functools.partial(<function _get_relevant_documents at 0x000001E7FD46AB90>, retriever=VectorStoreRetriever(tags=['FAISS', 'OllamaEmbeddings'], vectorstore=<langchain_community.vectorstores.faiss.FAISS object at 0x000001E78C1E5030>), document_prompt=PromptTemplate(input_variables=['page_content'], template='{page_content}'), document_separator='\\n\\n'), coroutine=functools.partial(<function _aget_relevant_documents at 0x000001E7FE5C6B90>, retriever=VectorStoreRetriever(tags=['FAISS', 'OllamaEmbeddings'], vectorstore=<langchain_community.vectorstores.faiss.FAISS object at 0x000001E78C1E5030>), document_prompt=PromptTemplate(input_variables=['page_content'], template='{page_content}'), document_separator='\\n\\n'))]"
      ]
     },
     "execution_count": 118,
     "metadata": {},
     "output_type": "execute_result"
    }
   ],
   "source": [
    "tools=[wiki,arxiv,retriever_tool]\n",
    "tools"
   ]
  },
  {
   "cell_type": "code",
   "execution_count": 119,
   "metadata": {},
   "outputs": [
    {
     "name": "stdout",
     "output_type": "stream",
     "text": [
      "Requirement already satisfied: langchainhub in c:\\users\\arjun.sreekumar\\appdata\\local\\anaconda3\\envs\\rag_pipeline\\lib\\site-packages (0.1.15)\n",
      "Requirement already satisfied: requests<3,>=2 in c:\\users\\arjun.sreekumar\\appdata\\local\\anaconda3\\envs\\rag_pipeline\\lib\\site-packages (from langchainhub) (2.31.0)\n",
      "Requirement already satisfied: types-requests<3.0.0.0,>=2.31.0.2 in c:\\users\\arjun.sreekumar\\appdata\\local\\anaconda3\\envs\\rag_pipeline\\lib\\site-packages (from langchainhub) (2.31.0.20240406)\n",
      "Requirement already satisfied: charset-normalizer<4,>=2 in c:\\users\\arjun.sreekumar\\appdata\\local\\anaconda3\\envs\\rag_pipeline\\lib\\site-packages (from requests<3,>=2->langchainhub) (3.3.2)\n",
      "Requirement already satisfied: idna<4,>=2.5 in c:\\users\\arjun.sreekumar\\appdata\\local\\anaconda3\\envs\\rag_pipeline\\lib\\site-packages (from requests<3,>=2->langchainhub) (3.6)\n",
      "Requirement already satisfied: urllib3<3,>=1.21.1 in c:\\users\\arjun.sreekumar\\appdata\\local\\anaconda3\\envs\\rag_pipeline\\lib\\site-packages (from requests<3,>=2->langchainhub) (2.2.1)\n",
      "Requirement already satisfied: certifi>=2017.4.17 in c:\\users\\arjun.sreekumar\\appdata\\local\\anaconda3\\envs\\rag_pipeline\\lib\\site-packages (from requests<3,>=2->langchainhub) (2024.2.2)\n",
      "Note: you may need to restart the kernel to use updated packages.\n"
     ]
    }
   ],
   "source": [
    "pip install langchainhub"
   ]
  },
  {
   "cell_type": "code",
   "execution_count": 120,
   "metadata": {},
   "outputs": [
    {
     "data": {
      "text/plain": [
       "[SystemMessagePromptTemplate(prompt=PromptTemplate(input_variables=[], template='You are a helpful assistant')),\n",
       " MessagesPlaceholder(variable_name='chat_history', optional=True),\n",
       " HumanMessagePromptTemplate(prompt=PromptTemplate(input_variables=['input'], template='{input}')),\n",
       " MessagesPlaceholder(variable_name='agent_scratchpad')]"
      ]
     },
     "execution_count": 120,
     "metadata": {},
     "output_type": "execute_result"
    }
   ],
   "source": [
    "from langchain import hub\n",
    "prompt = hub.pull(\"hwchase17/openai-functions-agent\")\n",
    "prompt.messages"
   ]
  },
  {
   "cell_type": "code",
   "execution_count": 121,
   "metadata": {},
   "outputs": [],
   "source": [
    "from langchain.memory import ConversationBufferMemory\n",
    "memory = ConversationBufferMemory(memory_key=\"chat_history\")"
   ]
  },
  {
   "cell_type": "code",
   "execution_count": 122,
   "metadata": {},
   "outputs": [],
   "source": [
    "##Agents\n",
    "from langchain.agents import create_openai_tools_agent\n",
    "agent=create_openai_tools_agent(llm,tools,prompt)\n"
   ]
  },
  {
   "cell_type": "code",
   "execution_count": 123,
   "metadata": {},
   "outputs": [
    {
     "data": {
      "text/plain": [
       "RunnableAssign(mapper={\n",
       "  agent_scratchpad: RunnableLambda(lambda x: format_to_openai_tool_messages(x['intermediate_steps']))\n",
       "})\n",
       "| ChatPromptTemplate(input_variables=['agent_scratchpad', 'input'], input_types={'chat_history': typing.List[typing.Union[langchain_core.messages.ai.AIMessage, langchain_core.messages.human.HumanMessage, langchain_core.messages.chat.ChatMessage, langchain_core.messages.system.SystemMessage, langchain_core.messages.function.FunctionMessage, langchain_core.messages.tool.ToolMessage]], 'agent_scratchpad': typing.List[typing.Union[langchain_core.messages.ai.AIMessage, langchain_core.messages.human.HumanMessage, langchain_core.messages.chat.ChatMessage, langchain_core.messages.system.SystemMessage, langchain_core.messages.function.FunctionMessage, langchain_core.messages.tool.ToolMessage]]}, metadata={'lc_hub_owner': 'hwchase17', 'lc_hub_repo': 'openai-functions-agent', 'lc_hub_commit_hash': 'a1655024b06afbd95d17449f21316291e0726f13dcfaf990cc0d18087ad689a5'}, messages=[SystemMessagePromptTemplate(prompt=PromptTemplate(input_variables=[], template='You are a helpful assistant')), MessagesPlaceholder(variable_name='chat_history', optional=True), HumanMessagePromptTemplate(prompt=PromptTemplate(input_variables=['input'], template='{input}')), MessagesPlaceholder(variable_name='agent_scratchpad')])\n",
       "| RunnableBinding(bound=ChatGoogleGenerativeAI(model='gemini-pro', client=genai.GenerativeModel(\n",
       "      model_name='models/gemini-pro',\n",
       "      generation_config={},\n",
       "      safety_settings={},\n",
       "      tools=None,\n",
       "      system_instruction=None,\n",
       "  ), convert_system_message_to_human=True), kwargs={'tools': [{'type': 'function', 'function': {'name': 'wikipedia', 'description': 'A wrapper around Wikipedia. Useful for when you need to answer general questions about people, places, companies, facts, historical events, or other subjects. Input should be a search query.', 'parameters': {'properties': {'__arg1': {'title': '__arg1', 'type': 'string'}}, 'required': ['__arg1'], 'type': 'object'}}}, {'type': 'function', 'function': {'name': 'arxiv', 'description': 'A wrapper around Arxiv.org Useful for when you need to answer questions about Physics, Mathematics, Computer Science, Quantitative Biology, Quantitative Finance, Statistics, Electrical Engineering, and Economics from scientific articles on arxiv.org. Input should be a search query.', 'parameters': {'type': 'object', 'properties': {'query': {'description': 'search query to look up', 'type': 'string'}}, 'required': ['query']}}}, {'type': 'function', 'function': {'name': 'langchain_tools', 'description': 'give difference between langchain tools and langchain chains', 'parameters': {'type': 'object', 'properties': {'query': {'description': 'query to look up in retriever', 'type': 'string'}}, 'required': ['query']}}}]})\n",
       "| OpenAIToolsAgentOutputParser()"
      ]
     },
     "execution_count": 123,
     "metadata": {},
     "output_type": "execute_result"
    }
   ],
   "source": [
    "agent"
   ]
  },
  {
   "cell_type": "code",
   "execution_count": 124,
   "metadata": {},
   "outputs": [
    {
     "data": {
      "text/plain": [
       "ChatGoogleGenerativeAI(model='gemini-pro', client=genai.GenerativeModel(\n",
       "    model_name='models/gemini-pro',\n",
       "    generation_config={},\n",
       "    safety_settings={},\n",
       "    tools=None,\n",
       "    system_instruction=None,\n",
       "), convert_system_message_to_human=True)"
      ]
     },
     "execution_count": 124,
     "metadata": {},
     "output_type": "execute_result"
    }
   ],
   "source": [
    "llm"
   ]
  },
  {
   "cell_type": "code",
   "execution_count": 125,
   "metadata": {},
   "outputs": [],
   "source": [
    "from langchain.agents import AgentExecutor\n",
    "agent_executor = AgentExecutor(agent=agent, tools=tools,verbose=True)"
   ]
  },
  {
   "cell_type": "code",
   "execution_count": 126,
   "metadata": {},
   "outputs": [
    {
     "data": {
      "text/plain": [
       "AgentExecutor(verbose=True, agent=RunnableMultiActionAgent(runnable=RunnableAssign(mapper={\n",
       "  agent_scratchpad: RunnableLambda(lambda x: format_to_openai_tool_messages(x['intermediate_steps']))\n",
       "})\n",
       "| ChatPromptTemplate(input_variables=['agent_scratchpad', 'input'], input_types={'chat_history': typing.List[typing.Union[langchain_core.messages.ai.AIMessage, langchain_core.messages.human.HumanMessage, langchain_core.messages.chat.ChatMessage, langchain_core.messages.system.SystemMessage, langchain_core.messages.function.FunctionMessage, langchain_core.messages.tool.ToolMessage]], 'agent_scratchpad': typing.List[typing.Union[langchain_core.messages.ai.AIMessage, langchain_core.messages.human.HumanMessage, langchain_core.messages.chat.ChatMessage, langchain_core.messages.system.SystemMessage, langchain_core.messages.function.FunctionMessage, langchain_core.messages.tool.ToolMessage]]}, metadata={'lc_hub_owner': 'hwchase17', 'lc_hub_repo': 'openai-functions-agent', 'lc_hub_commit_hash': 'a1655024b06afbd95d17449f21316291e0726f13dcfaf990cc0d18087ad689a5'}, messages=[SystemMessagePromptTemplate(prompt=PromptTemplate(input_variables=[], template='You are a helpful assistant')), MessagesPlaceholder(variable_name='chat_history', optional=True), HumanMessagePromptTemplate(prompt=PromptTemplate(input_variables=['input'], template='{input}')), MessagesPlaceholder(variable_name='agent_scratchpad')])\n",
       "| RunnableBinding(bound=ChatGoogleGenerativeAI(model='gemini-pro', client=genai.GenerativeModel(\n",
       "      model_name='models/gemini-pro',\n",
       "      generation_config={},\n",
       "      safety_settings={},\n",
       "      tools=None,\n",
       "      system_instruction=None,\n",
       "  ), convert_system_message_to_human=True), kwargs={'tools': [{'type': 'function', 'function': {'name': 'wikipedia', 'description': 'A wrapper around Wikipedia. Useful for when you need to answer general questions about people, places, companies, facts, historical events, or other subjects. Input should be a search query.', 'parameters': {'properties': {'__arg1': {'title': '__arg1', 'type': 'string'}}, 'required': ['__arg1'], 'type': 'object'}}}, {'type': 'function', 'function': {'name': 'arxiv', 'description': 'A wrapper around Arxiv.org Useful for when you need to answer questions about Physics, Mathematics, Computer Science, Quantitative Biology, Quantitative Finance, Statistics, Electrical Engineering, and Economics from scientific articles on arxiv.org. Input should be a search query.', 'parameters': {'type': 'object', 'properties': {'query': {'description': 'search query to look up', 'type': 'string'}}, 'required': ['query']}}}, {'type': 'function', 'function': {'name': 'langchain_tools', 'description': 'give difference between langchain tools and langchain chains', 'parameters': {'type': 'object', 'properties': {'query': {'description': 'query to look up in retriever', 'type': 'string'}}, 'required': ['query']}}}]})\n",
       "| OpenAIToolsAgentOutputParser(), input_keys_arg=[], return_keys_arg=[], stream_runnable=True), tools=[WikipediaQueryRun(api_wrapper=WikipediaAPIWrapper(wiki_client=<module 'wikipedia' from 'c:\\\\Users\\\\arjun.sreekumar\\\\AppData\\\\Local\\\\anaconda3\\\\envs\\\\rag_pipeline\\\\lib\\\\site-packages\\\\wikipedia\\\\__init__.py'>, top_k_results=1, lang='en', load_all_available_meta=False, doc_content_chars_max=200)), ArxivQueryRun(api_wrapper=ArxivAPIWrapper(arxiv_search=<class 'arxiv.Search'>, arxiv_exceptions=(<class 'arxiv.ArxivError'>, <class 'arxiv.UnexpectedEmptyPageError'>, <class 'arxiv.HTTPError'>), top_k_results=1, ARXIV_MAX_QUERY_LENGTH=300, load_max_docs=100, load_all_available_meta=False, doc_content_chars_max=200, arxiv_result=<class 'arxiv.Result'>)), Tool(name='langchain_tools', description='give difference between langchain tools and langchain chains', args_schema=<class 'langchain.tools.retriever.RetrieverInput'>, func=functools.partial(<function _get_relevant_documents at 0x000001E7FD46AB90>, retriever=VectorStoreRetriever(tags=['FAISS', 'OllamaEmbeddings'], vectorstore=<langchain_community.vectorstores.faiss.FAISS object at 0x000001E78C1E5030>), document_prompt=PromptTemplate(input_variables=['page_content'], template='{page_content}'), document_separator='\\n\\n'), coroutine=functools.partial(<function _aget_relevant_documents at 0x000001E7FE5C6B90>, retriever=VectorStoreRetriever(tags=['FAISS', 'OllamaEmbeddings'], vectorstore=<langchain_community.vectorstores.faiss.FAISS object at 0x000001E78C1E5030>), document_prompt=PromptTemplate(input_variables=['page_content'], template='{page_content}'), document_separator='\\n\\n'))])"
      ]
     },
     "execution_count": 126,
     "metadata": {},
     "output_type": "execute_result"
    }
   ],
   "source": [
    "agent_executor"
   ]
  },
  {
   "cell_type": "code",
   "execution_count": 127,
   "metadata": {},
   "outputs": [
    {
     "name": "stderr",
     "output_type": "stream",
     "text": [
      "c:\\Users\\arjun.sreekumar\\AppData\\Local\\anaconda3\\envs\\rag_pipeline\\lib\\site-packages\\langchain_google_genai\\chat_models.py:308: UserWarning: Convert_system_message_to_human will be deprecated!\n",
      "  warnings.warn(\"Convert_system_message_to_human will be deprecated!\")\n"
     ]
    },
    {
     "name": "stdout",
     "output_type": "stream",
     "text": [
      "Hi there! How can I help you today?\n"
     ]
    }
   ],
   "source": [
    "result = llm.invoke(\"hello\")\n",
    "print(result.content)"
   ]
  },
  {
   "cell_type": "code",
   "execution_count": 128,
   "metadata": {},
   "outputs": [
    {
     "name": "stdout",
     "output_type": "stream",
     "text": [
      "\n",
      "\n",
      "\u001b[1m> Entering new AgentExecutor chain...\u001b[0m\n"
     ]
    },
    {
     "name": "stderr",
     "output_type": "stream",
     "text": [
      "c:\\Users\\arjun.sreekumar\\AppData\\Local\\anaconda3\\envs\\rag_pipeline\\lib\\site-packages\\langchain_google_genai\\chat_models.py:308: UserWarning: Convert_system_message_to_human will be deprecated!\n",
      "  warnings.warn(\"Convert_system_message_to_human will be deprecated!\")\n"
     ]
    },
    {
     "ename": "ValueError",
     "evalue": "Unknown field for FunctionDeclaration: type",
     "output_type": "error",
     "traceback": [
      "\u001b[1;31m---------------------------------------------------------------------------\u001b[0m",
      "\u001b[1;31mValueError\u001b[0m                                Traceback (most recent call last)",
      "Cell \u001b[1;32mIn[128], line 1\u001b[0m\n\u001b[1;32m----> 1\u001b[0m \u001b[43magent_executor\u001b[49m\u001b[38;5;241;43m.\u001b[39;49m\u001b[43minvoke\u001b[49m\u001b[43m(\u001b[49m\u001b[43m{\u001b[49m\u001b[38;5;124;43m\"\u001b[39;49m\u001b[38;5;124;43minput\u001b[39;49m\u001b[38;5;124;43m\"\u001b[39;49m\u001b[43m:\u001b[49m\u001b[38;5;124;43m\"\u001b[39;49m\u001b[38;5;124;43mtell me about langserve\u001b[39;49m\u001b[38;5;124;43m\"\u001b[39;49m\u001b[43m}\u001b[49m\u001b[43m)\u001b[49m\n",
      "File \u001b[1;32mc:\\Users\\arjun.sreekumar\\AppData\\Local\\anaconda3\\envs\\rag_pipeline\\lib\\site-packages\\langchain\\chains\\base.py:163\u001b[0m, in \u001b[0;36mChain.invoke\u001b[1;34m(self, input, config, **kwargs)\u001b[0m\n\u001b[0;32m    161\u001b[0m \u001b[38;5;28;01mexcept\u001b[39;00m \u001b[38;5;167;01mBaseException\u001b[39;00m \u001b[38;5;28;01mas\u001b[39;00m e:\n\u001b[0;32m    162\u001b[0m     run_manager\u001b[38;5;241m.\u001b[39mon_chain_error(e)\n\u001b[1;32m--> 163\u001b[0m     \u001b[38;5;28;01mraise\u001b[39;00m e\n\u001b[0;32m    164\u001b[0m run_manager\u001b[38;5;241m.\u001b[39mon_chain_end(outputs)\n\u001b[0;32m    166\u001b[0m \u001b[38;5;28;01mif\u001b[39;00m include_run_info:\n",
      "File \u001b[1;32mc:\\Users\\arjun.sreekumar\\AppData\\Local\\anaconda3\\envs\\rag_pipeline\\lib\\site-packages\\langchain\\chains\\base.py:153\u001b[0m, in \u001b[0;36mChain.invoke\u001b[1;34m(self, input, config, **kwargs)\u001b[0m\n\u001b[0;32m    150\u001b[0m \u001b[38;5;28;01mtry\u001b[39;00m:\n\u001b[0;32m    151\u001b[0m     \u001b[38;5;28mself\u001b[39m\u001b[38;5;241m.\u001b[39m_validate_inputs(inputs)\n\u001b[0;32m    152\u001b[0m     outputs \u001b[38;5;241m=\u001b[39m (\n\u001b[1;32m--> 153\u001b[0m         \u001b[38;5;28;43mself\u001b[39;49m\u001b[38;5;241;43m.\u001b[39;49m\u001b[43m_call\u001b[49m\u001b[43m(\u001b[49m\u001b[43minputs\u001b[49m\u001b[43m,\u001b[49m\u001b[43m \u001b[49m\u001b[43mrun_manager\u001b[49m\u001b[38;5;241;43m=\u001b[39;49m\u001b[43mrun_manager\u001b[49m\u001b[43m)\u001b[49m\n\u001b[0;32m    154\u001b[0m         \u001b[38;5;28;01mif\u001b[39;00m new_arg_supported\n\u001b[0;32m    155\u001b[0m         \u001b[38;5;28;01melse\u001b[39;00m \u001b[38;5;28mself\u001b[39m\u001b[38;5;241m.\u001b[39m_call(inputs)\n\u001b[0;32m    156\u001b[0m     )\n\u001b[0;32m    158\u001b[0m     final_outputs: Dict[\u001b[38;5;28mstr\u001b[39m, Any] \u001b[38;5;241m=\u001b[39m \u001b[38;5;28mself\u001b[39m\u001b[38;5;241m.\u001b[39mprep_outputs(\n\u001b[0;32m    159\u001b[0m         inputs, outputs, return_only_outputs\n\u001b[0;32m    160\u001b[0m     )\n\u001b[0;32m    161\u001b[0m \u001b[38;5;28;01mexcept\u001b[39;00m \u001b[38;5;167;01mBaseException\u001b[39;00m \u001b[38;5;28;01mas\u001b[39;00m e:\n",
      "File \u001b[1;32mc:\\Users\\arjun.sreekumar\\AppData\\Local\\anaconda3\\envs\\rag_pipeline\\lib\\site-packages\\langchain\\agents\\agent.py:1432\u001b[0m, in \u001b[0;36mAgentExecutor._call\u001b[1;34m(self, inputs, run_manager)\u001b[0m\n\u001b[0;32m   1430\u001b[0m \u001b[38;5;66;03m# We now enter the agent loop (until it returns something).\u001b[39;00m\n\u001b[0;32m   1431\u001b[0m \u001b[38;5;28;01mwhile\u001b[39;00m \u001b[38;5;28mself\u001b[39m\u001b[38;5;241m.\u001b[39m_should_continue(iterations, time_elapsed):\n\u001b[1;32m-> 1432\u001b[0m     next_step_output \u001b[38;5;241m=\u001b[39m \u001b[38;5;28;43mself\u001b[39;49m\u001b[38;5;241;43m.\u001b[39;49m\u001b[43m_take_next_step\u001b[49m\u001b[43m(\u001b[49m\n\u001b[0;32m   1433\u001b[0m \u001b[43m        \u001b[49m\u001b[43mname_to_tool_map\u001b[49m\u001b[43m,\u001b[49m\n\u001b[0;32m   1434\u001b[0m \u001b[43m        \u001b[49m\u001b[43mcolor_mapping\u001b[49m\u001b[43m,\u001b[49m\n\u001b[0;32m   1435\u001b[0m \u001b[43m        \u001b[49m\u001b[43minputs\u001b[49m\u001b[43m,\u001b[49m\n\u001b[0;32m   1436\u001b[0m \u001b[43m        \u001b[49m\u001b[43mintermediate_steps\u001b[49m\u001b[43m,\u001b[49m\n\u001b[0;32m   1437\u001b[0m \u001b[43m        \u001b[49m\u001b[43mrun_manager\u001b[49m\u001b[38;5;241;43m=\u001b[39;49m\u001b[43mrun_manager\u001b[49m\u001b[43m,\u001b[49m\n\u001b[0;32m   1438\u001b[0m \u001b[43m    \u001b[49m\u001b[43m)\u001b[49m\n\u001b[0;32m   1439\u001b[0m     \u001b[38;5;28;01mif\u001b[39;00m \u001b[38;5;28misinstance\u001b[39m(next_step_output, AgentFinish):\n\u001b[0;32m   1440\u001b[0m         \u001b[38;5;28;01mreturn\u001b[39;00m \u001b[38;5;28mself\u001b[39m\u001b[38;5;241m.\u001b[39m_return(\n\u001b[0;32m   1441\u001b[0m             next_step_output, intermediate_steps, run_manager\u001b[38;5;241m=\u001b[39mrun_manager\n\u001b[0;32m   1442\u001b[0m         )\n",
      "File \u001b[1;32mc:\\Users\\arjun.sreekumar\\AppData\\Local\\anaconda3\\envs\\rag_pipeline\\lib\\site-packages\\langchain\\agents\\agent.py:1138\u001b[0m, in \u001b[0;36mAgentExecutor._take_next_step\u001b[1;34m(self, name_to_tool_map, color_mapping, inputs, intermediate_steps, run_manager)\u001b[0m\n\u001b[0;32m   1129\u001b[0m \u001b[38;5;28;01mdef\u001b[39;00m \u001b[38;5;21m_take_next_step\u001b[39m(\n\u001b[0;32m   1130\u001b[0m     \u001b[38;5;28mself\u001b[39m,\n\u001b[0;32m   1131\u001b[0m     name_to_tool_map: Dict[\u001b[38;5;28mstr\u001b[39m, BaseTool],\n\u001b[1;32m   (...)\u001b[0m\n\u001b[0;32m   1135\u001b[0m     run_manager: Optional[CallbackManagerForChainRun] \u001b[38;5;241m=\u001b[39m \u001b[38;5;28;01mNone\u001b[39;00m,\n\u001b[0;32m   1136\u001b[0m ) \u001b[38;5;241m-\u001b[39m\u001b[38;5;241m>\u001b[39m Union[AgentFinish, List[Tuple[AgentAction, \u001b[38;5;28mstr\u001b[39m]]]:\n\u001b[0;32m   1137\u001b[0m     \u001b[38;5;28;01mreturn\u001b[39;00m \u001b[38;5;28mself\u001b[39m\u001b[38;5;241m.\u001b[39m_consume_next_step(\n\u001b[1;32m-> 1138\u001b[0m         [\n\u001b[0;32m   1139\u001b[0m             a\n\u001b[0;32m   1140\u001b[0m             \u001b[38;5;28;01mfor\u001b[39;00m a \u001b[38;5;129;01min\u001b[39;00m \u001b[38;5;28mself\u001b[39m\u001b[38;5;241m.\u001b[39m_iter_next_step(\n\u001b[0;32m   1141\u001b[0m                 name_to_tool_map,\n\u001b[0;32m   1142\u001b[0m                 color_mapping,\n\u001b[0;32m   1143\u001b[0m                 inputs,\n\u001b[0;32m   1144\u001b[0m                 intermediate_steps,\n\u001b[0;32m   1145\u001b[0m                 run_manager,\n\u001b[0;32m   1146\u001b[0m             )\n\u001b[0;32m   1147\u001b[0m         ]\n\u001b[0;32m   1148\u001b[0m     )\n",
      "File \u001b[1;32mc:\\Users\\arjun.sreekumar\\AppData\\Local\\anaconda3\\envs\\rag_pipeline\\lib\\site-packages\\langchain\\agents\\agent.py:1138\u001b[0m, in \u001b[0;36m<listcomp>\u001b[1;34m(.0)\u001b[0m\n\u001b[0;32m   1129\u001b[0m \u001b[38;5;28;01mdef\u001b[39;00m \u001b[38;5;21m_take_next_step\u001b[39m(\n\u001b[0;32m   1130\u001b[0m     \u001b[38;5;28mself\u001b[39m,\n\u001b[0;32m   1131\u001b[0m     name_to_tool_map: Dict[\u001b[38;5;28mstr\u001b[39m, BaseTool],\n\u001b[1;32m   (...)\u001b[0m\n\u001b[0;32m   1135\u001b[0m     run_manager: Optional[CallbackManagerForChainRun] \u001b[38;5;241m=\u001b[39m \u001b[38;5;28;01mNone\u001b[39;00m,\n\u001b[0;32m   1136\u001b[0m ) \u001b[38;5;241m-\u001b[39m\u001b[38;5;241m>\u001b[39m Union[AgentFinish, List[Tuple[AgentAction, \u001b[38;5;28mstr\u001b[39m]]]:\n\u001b[0;32m   1137\u001b[0m     \u001b[38;5;28;01mreturn\u001b[39;00m \u001b[38;5;28mself\u001b[39m\u001b[38;5;241m.\u001b[39m_consume_next_step(\n\u001b[1;32m-> 1138\u001b[0m         [\n\u001b[0;32m   1139\u001b[0m             a\n\u001b[0;32m   1140\u001b[0m             \u001b[38;5;28;01mfor\u001b[39;00m a \u001b[38;5;129;01min\u001b[39;00m \u001b[38;5;28mself\u001b[39m\u001b[38;5;241m.\u001b[39m_iter_next_step(\n\u001b[0;32m   1141\u001b[0m                 name_to_tool_map,\n\u001b[0;32m   1142\u001b[0m                 color_mapping,\n\u001b[0;32m   1143\u001b[0m                 inputs,\n\u001b[0;32m   1144\u001b[0m                 intermediate_steps,\n\u001b[0;32m   1145\u001b[0m                 run_manager,\n\u001b[0;32m   1146\u001b[0m             )\n\u001b[0;32m   1147\u001b[0m         ]\n\u001b[0;32m   1148\u001b[0m     )\n",
      "File \u001b[1;32mc:\\Users\\arjun.sreekumar\\AppData\\Local\\anaconda3\\envs\\rag_pipeline\\lib\\site-packages\\langchain\\agents\\agent.py:1166\u001b[0m, in \u001b[0;36mAgentExecutor._iter_next_step\u001b[1;34m(self, name_to_tool_map, color_mapping, inputs, intermediate_steps, run_manager)\u001b[0m\n\u001b[0;32m   1163\u001b[0m     intermediate_steps \u001b[38;5;241m=\u001b[39m \u001b[38;5;28mself\u001b[39m\u001b[38;5;241m.\u001b[39m_prepare_intermediate_steps(intermediate_steps)\n\u001b[0;32m   1165\u001b[0m     \u001b[38;5;66;03m# Call the LLM to see what to do.\u001b[39;00m\n\u001b[1;32m-> 1166\u001b[0m     output \u001b[38;5;241m=\u001b[39m \u001b[38;5;28mself\u001b[39m\u001b[38;5;241m.\u001b[39magent\u001b[38;5;241m.\u001b[39mplan(\n\u001b[0;32m   1167\u001b[0m         intermediate_steps,\n\u001b[0;32m   1168\u001b[0m         callbacks\u001b[38;5;241m=\u001b[39mrun_manager\u001b[38;5;241m.\u001b[39mget_child() \u001b[38;5;28;01mif\u001b[39;00m run_manager \u001b[38;5;28;01melse\u001b[39;00m \u001b[38;5;28;01mNone\u001b[39;00m,\n\u001b[0;32m   1169\u001b[0m         \u001b[38;5;241m*\u001b[39m\u001b[38;5;241m*\u001b[39minputs,\n\u001b[0;32m   1170\u001b[0m     )\n\u001b[0;32m   1171\u001b[0m \u001b[38;5;28;01mexcept\u001b[39;00m OutputParserException \u001b[38;5;28;01mas\u001b[39;00m e:\n\u001b[0;32m   1172\u001b[0m     \u001b[38;5;28;01mif\u001b[39;00m \u001b[38;5;28misinstance\u001b[39m(\u001b[38;5;28mself\u001b[39m\u001b[38;5;241m.\u001b[39mhandle_parsing_errors, \u001b[38;5;28mbool\u001b[39m):\n",
      "File \u001b[1;32mc:\\Users\\arjun.sreekumar\\AppData\\Local\\anaconda3\\envs\\rag_pipeline\\lib\\site-packages\\langchain\\agents\\agent.py:514\u001b[0m, in \u001b[0;36mRunnableMultiActionAgent.plan\u001b[1;34m(self, intermediate_steps, callbacks, **kwargs)\u001b[0m\n\u001b[0;32m    506\u001b[0m final_output: Any \u001b[38;5;241m=\u001b[39m \u001b[38;5;28;01mNone\u001b[39;00m\n\u001b[0;32m    507\u001b[0m \u001b[38;5;28;01mif\u001b[39;00m \u001b[38;5;28mself\u001b[39m\u001b[38;5;241m.\u001b[39mstream_runnable:\n\u001b[0;32m    508\u001b[0m     \u001b[38;5;66;03m# Use streaming to make sure that the underlying LLM is invoked in a\u001b[39;00m\n\u001b[0;32m    509\u001b[0m     \u001b[38;5;66;03m# streaming\u001b[39;00m\n\u001b[1;32m   (...)\u001b[0m\n\u001b[0;32m    512\u001b[0m     \u001b[38;5;66;03m# Because the response from the plan is not a generator, we need to\u001b[39;00m\n\u001b[0;32m    513\u001b[0m     \u001b[38;5;66;03m# accumulate the output into final output and return that.\u001b[39;00m\n\u001b[1;32m--> 514\u001b[0m     \u001b[38;5;28;01mfor\u001b[39;00m chunk \u001b[38;5;129;01min\u001b[39;00m \u001b[38;5;28mself\u001b[39m\u001b[38;5;241m.\u001b[39mrunnable\u001b[38;5;241m.\u001b[39mstream(inputs, config\u001b[38;5;241m=\u001b[39m{\u001b[38;5;124m\"\u001b[39m\u001b[38;5;124mcallbacks\u001b[39m\u001b[38;5;124m\"\u001b[39m: callbacks}):\n\u001b[0;32m    515\u001b[0m         \u001b[38;5;28;01mif\u001b[39;00m final_output \u001b[38;5;129;01mis\u001b[39;00m \u001b[38;5;28;01mNone\u001b[39;00m:\n\u001b[0;32m    516\u001b[0m             final_output \u001b[38;5;241m=\u001b[39m chunk\n",
      "File \u001b[1;32mc:\\Users\\arjun.sreekumar\\AppData\\Local\\anaconda3\\envs\\rag_pipeline\\lib\\site-packages\\langchain_core\\runnables\\base.py:2875\u001b[0m, in \u001b[0;36mRunnableSequence.stream\u001b[1;34m(self, input, config, **kwargs)\u001b[0m\n\u001b[0;32m   2869\u001b[0m \u001b[38;5;28;01mdef\u001b[39;00m \u001b[38;5;21mstream\u001b[39m(\n\u001b[0;32m   2870\u001b[0m     \u001b[38;5;28mself\u001b[39m,\n\u001b[0;32m   2871\u001b[0m     \u001b[38;5;28minput\u001b[39m: Input,\n\u001b[0;32m   2872\u001b[0m     config: Optional[RunnableConfig] \u001b[38;5;241m=\u001b[39m \u001b[38;5;28;01mNone\u001b[39;00m,\n\u001b[0;32m   2873\u001b[0m     \u001b[38;5;241m*\u001b[39m\u001b[38;5;241m*\u001b[39mkwargs: Optional[Any],\n\u001b[0;32m   2874\u001b[0m ) \u001b[38;5;241m-\u001b[39m\u001b[38;5;241m>\u001b[39m Iterator[Output]:\n\u001b[1;32m-> 2875\u001b[0m     \u001b[38;5;28;01myield from\u001b[39;00m \u001b[38;5;28mself\u001b[39m\u001b[38;5;241m.\u001b[39mtransform(\u001b[38;5;28miter\u001b[39m([\u001b[38;5;28minput\u001b[39m]), config, \u001b[38;5;241m*\u001b[39m\u001b[38;5;241m*\u001b[39mkwargs)\n",
      "File \u001b[1;32mc:\\Users\\arjun.sreekumar\\AppData\\Local\\anaconda3\\envs\\rag_pipeline\\lib\\site-packages\\langchain_core\\runnables\\base.py:2862\u001b[0m, in \u001b[0;36mRunnableSequence.transform\u001b[1;34m(self, input, config, **kwargs)\u001b[0m\n\u001b[0;32m   2856\u001b[0m \u001b[38;5;28;01mdef\u001b[39;00m \u001b[38;5;21mtransform\u001b[39m(\n\u001b[0;32m   2857\u001b[0m     \u001b[38;5;28mself\u001b[39m,\n\u001b[0;32m   2858\u001b[0m     \u001b[38;5;28minput\u001b[39m: Iterator[Input],\n\u001b[0;32m   2859\u001b[0m     config: Optional[RunnableConfig] \u001b[38;5;241m=\u001b[39m \u001b[38;5;28;01mNone\u001b[39;00m,\n\u001b[0;32m   2860\u001b[0m     \u001b[38;5;241m*\u001b[39m\u001b[38;5;241m*\u001b[39mkwargs: Optional[Any],\n\u001b[0;32m   2861\u001b[0m ) \u001b[38;5;241m-\u001b[39m\u001b[38;5;241m>\u001b[39m Iterator[Output]:\n\u001b[1;32m-> 2862\u001b[0m     \u001b[38;5;28;01myield from\u001b[39;00m \u001b[38;5;28mself\u001b[39m\u001b[38;5;241m.\u001b[39m_transform_stream_with_config(\n\u001b[0;32m   2863\u001b[0m         \u001b[38;5;28minput\u001b[39m,\n\u001b[0;32m   2864\u001b[0m         \u001b[38;5;28mself\u001b[39m\u001b[38;5;241m.\u001b[39m_transform,\n\u001b[0;32m   2865\u001b[0m         patch_config(config, run_name\u001b[38;5;241m=\u001b[39m(config \u001b[38;5;129;01mor\u001b[39;00m {})\u001b[38;5;241m.\u001b[39mget(\u001b[38;5;124m\"\u001b[39m\u001b[38;5;124mrun_name\u001b[39m\u001b[38;5;124m\"\u001b[39m) \u001b[38;5;129;01mor\u001b[39;00m \u001b[38;5;28mself\u001b[39m\u001b[38;5;241m.\u001b[39mname),\n\u001b[0;32m   2866\u001b[0m         \u001b[38;5;241m*\u001b[39m\u001b[38;5;241m*\u001b[39mkwargs,\n\u001b[0;32m   2867\u001b[0m     )\n",
      "File \u001b[1;32mc:\\Users\\arjun.sreekumar\\AppData\\Local\\anaconda3\\envs\\rag_pipeline\\lib\\site-packages\\langchain_core\\runnables\\base.py:1880\u001b[0m, in \u001b[0;36mRunnable._transform_stream_with_config\u001b[1;34m(self, input, transformer, config, run_type, **kwargs)\u001b[0m\n\u001b[0;32m   1878\u001b[0m \u001b[38;5;28;01mtry\u001b[39;00m:\n\u001b[0;32m   1879\u001b[0m     \u001b[38;5;28;01mwhile\u001b[39;00m \u001b[38;5;28;01mTrue\u001b[39;00m:\n\u001b[1;32m-> 1880\u001b[0m         chunk: Output \u001b[38;5;241m=\u001b[39m \u001b[43mcontext\u001b[49m\u001b[38;5;241;43m.\u001b[39;49m\u001b[43mrun\u001b[49m\u001b[43m(\u001b[49m\u001b[38;5;28;43mnext\u001b[39;49m\u001b[43m,\u001b[49m\u001b[43m \u001b[49m\u001b[43miterator\u001b[49m\u001b[43m)\u001b[49m  \u001b[38;5;66;03m# type: ignore\u001b[39;00m\n\u001b[0;32m   1881\u001b[0m         \u001b[38;5;28;01myield\u001b[39;00m chunk\n\u001b[0;32m   1882\u001b[0m         \u001b[38;5;28;01mif\u001b[39;00m final_output_supported:\n",
      "File \u001b[1;32mc:\\Users\\arjun.sreekumar\\AppData\\Local\\anaconda3\\envs\\rag_pipeline\\lib\\site-packages\\langchain_core\\runnables\\base.py:2826\u001b[0m, in \u001b[0;36mRunnableSequence._transform\u001b[1;34m(self, input, run_manager, config)\u001b[0m\n\u001b[0;32m   2817\u001b[0m \u001b[38;5;28;01mfor\u001b[39;00m step \u001b[38;5;129;01min\u001b[39;00m steps:\n\u001b[0;32m   2818\u001b[0m     final_pipeline \u001b[38;5;241m=\u001b[39m step\u001b[38;5;241m.\u001b[39mtransform(\n\u001b[0;32m   2819\u001b[0m         final_pipeline,\n\u001b[0;32m   2820\u001b[0m         patch_config(\n\u001b[1;32m   (...)\u001b[0m\n\u001b[0;32m   2823\u001b[0m         ),\n\u001b[0;32m   2824\u001b[0m     )\n\u001b[1;32m-> 2826\u001b[0m \u001b[38;5;28;01mfor\u001b[39;00m output \u001b[38;5;129;01min\u001b[39;00m final_pipeline:\n\u001b[0;32m   2827\u001b[0m     \u001b[38;5;28;01myield\u001b[39;00m output\n",
      "File \u001b[1;32mc:\\Users\\arjun.sreekumar\\AppData\\Local\\anaconda3\\envs\\rag_pipeline\\lib\\site-packages\\langchain_core\\runnables\\base.py:1283\u001b[0m, in \u001b[0;36mRunnable.transform\u001b[1;34m(self, input, config, **kwargs)\u001b[0m\n\u001b[0;32m   1280\u001b[0m final: Input\n\u001b[0;32m   1281\u001b[0m got_first_val \u001b[38;5;241m=\u001b[39m \u001b[38;5;28;01mFalse\u001b[39;00m\n\u001b[1;32m-> 1283\u001b[0m \u001b[38;5;28;01mfor\u001b[39;00m chunk \u001b[38;5;129;01min\u001b[39;00m \u001b[38;5;28minput\u001b[39m:\n\u001b[0;32m   1284\u001b[0m     \u001b[38;5;28;01mif\u001b[39;00m \u001b[38;5;129;01mnot\u001b[39;00m got_first_val:\n\u001b[0;32m   1285\u001b[0m         final \u001b[38;5;241m=\u001b[39m adapt_first_streaming_chunk(chunk)  \u001b[38;5;66;03m# type: ignore\u001b[39;00m\n",
      "File \u001b[1;32mc:\\Users\\arjun.sreekumar\\AppData\\Local\\anaconda3\\envs\\rag_pipeline\\lib\\site-packages\\langchain_core\\runnables\\base.py:4722\u001b[0m, in \u001b[0;36mRunnableBindingBase.transform\u001b[1;34m(self, input, config, **kwargs)\u001b[0m\n\u001b[0;32m   4716\u001b[0m \u001b[38;5;28;01mdef\u001b[39;00m \u001b[38;5;21mtransform\u001b[39m(\n\u001b[0;32m   4717\u001b[0m     \u001b[38;5;28mself\u001b[39m,\n\u001b[0;32m   4718\u001b[0m     \u001b[38;5;28minput\u001b[39m: Iterator[Input],\n\u001b[0;32m   4719\u001b[0m     config: Optional[RunnableConfig] \u001b[38;5;241m=\u001b[39m \u001b[38;5;28;01mNone\u001b[39;00m,\n\u001b[0;32m   4720\u001b[0m     \u001b[38;5;241m*\u001b[39m\u001b[38;5;241m*\u001b[39mkwargs: Any,\n\u001b[0;32m   4721\u001b[0m ) \u001b[38;5;241m-\u001b[39m\u001b[38;5;241m>\u001b[39m Iterator[Output]:\n\u001b[1;32m-> 4722\u001b[0m     \u001b[38;5;28;01myield from\u001b[39;00m \u001b[38;5;28mself\u001b[39m\u001b[38;5;241m.\u001b[39mbound\u001b[38;5;241m.\u001b[39mtransform(\n\u001b[0;32m   4723\u001b[0m         \u001b[38;5;28minput\u001b[39m,\n\u001b[0;32m   4724\u001b[0m         \u001b[38;5;28mself\u001b[39m\u001b[38;5;241m.\u001b[39m_merge_configs(config),\n\u001b[0;32m   4725\u001b[0m         \u001b[38;5;241m*\u001b[39m\u001b[38;5;241m*\u001b[39m{\u001b[38;5;241m*\u001b[39m\u001b[38;5;241m*\u001b[39m\u001b[38;5;28mself\u001b[39m\u001b[38;5;241m.\u001b[39mkwargs, \u001b[38;5;241m*\u001b[39m\u001b[38;5;241m*\u001b[39mkwargs},\n\u001b[0;32m   4726\u001b[0m     )\n",
      "File \u001b[1;32mc:\\Users\\arjun.sreekumar\\AppData\\Local\\anaconda3\\envs\\rag_pipeline\\lib\\site-packages\\langchain_core\\runnables\\base.py:1300\u001b[0m, in \u001b[0;36mRunnable.transform\u001b[1;34m(self, input, config, **kwargs)\u001b[0m\n\u001b[0;32m   1293\u001b[0m             \u001b[38;5;28;01mraise\u001b[39;00m \u001b[38;5;167;01mTypeError\u001b[39;00m(\n\u001b[0;32m   1294\u001b[0m                 \u001b[38;5;124mf\u001b[39m\u001b[38;5;124m\"\u001b[39m\u001b[38;5;124mFailed while trying to add together \u001b[39m\u001b[38;5;124m\"\u001b[39m\n\u001b[0;32m   1295\u001b[0m                 \u001b[38;5;124mf\u001b[39m\u001b[38;5;124m\"\u001b[39m\u001b[38;5;124mtype \u001b[39m\u001b[38;5;132;01m{\u001b[39;00m\u001b[38;5;28mtype\u001b[39m(final)\u001b[38;5;132;01m}\u001b[39;00m\u001b[38;5;124m and \u001b[39m\u001b[38;5;132;01m{\u001b[39;00m\u001b[38;5;28mtype\u001b[39m(chunk)\u001b[38;5;132;01m}\u001b[39;00m\u001b[38;5;124m.\u001b[39m\u001b[38;5;124m\"\u001b[39m\n\u001b[0;32m   1296\u001b[0m                 \u001b[38;5;124mf\u001b[39m\u001b[38;5;124m\"\u001b[39m\u001b[38;5;124mThese types should be addable for transform to work.\u001b[39m\u001b[38;5;124m\"\u001b[39m\n\u001b[0;32m   1297\u001b[0m             )\n\u001b[0;32m   1299\u001b[0m \u001b[38;5;28;01mif\u001b[39;00m got_first_val:\n\u001b[1;32m-> 1300\u001b[0m     \u001b[38;5;28;01myield from\u001b[39;00m \u001b[38;5;28mself\u001b[39m\u001b[38;5;241m.\u001b[39mstream(final, config, \u001b[38;5;241m*\u001b[39m\u001b[38;5;241m*\u001b[39mkwargs)\n",
      "File \u001b[1;32mc:\\Users\\arjun.sreekumar\\AppData\\Local\\anaconda3\\envs\\rag_pipeline\\lib\\site-packages\\langchain_core\\language_models\\chat_models.py:243\u001b[0m, in \u001b[0;36mBaseChatModel.stream\u001b[1;34m(self, input, config, stop, **kwargs)\u001b[0m\n\u001b[0;32m    236\u001b[0m \u001b[38;5;28;01mexcept\u001b[39;00m \u001b[38;5;167;01mBaseException\u001b[39;00m \u001b[38;5;28;01mas\u001b[39;00m e:\n\u001b[0;32m    237\u001b[0m     run_manager\u001b[38;5;241m.\u001b[39mon_llm_error(\n\u001b[0;32m    238\u001b[0m         e,\n\u001b[0;32m    239\u001b[0m         response\u001b[38;5;241m=\u001b[39mLLMResult(\n\u001b[0;32m    240\u001b[0m             generations\u001b[38;5;241m=\u001b[39m[[generation]] \u001b[38;5;28;01mif\u001b[39;00m generation \u001b[38;5;28;01melse\u001b[39;00m []\n\u001b[0;32m    241\u001b[0m         ),\n\u001b[0;32m    242\u001b[0m     )\n\u001b[1;32m--> 243\u001b[0m     \u001b[38;5;28;01mraise\u001b[39;00m e\n\u001b[0;32m    244\u001b[0m \u001b[38;5;28;01melse\u001b[39;00m:\n\u001b[0;32m    245\u001b[0m     run_manager\u001b[38;5;241m.\u001b[39mon_llm_end(LLMResult(generations\u001b[38;5;241m=\u001b[39m[[generation]]))\n",
      "File \u001b[1;32mc:\\Users\\arjun.sreekumar\\AppData\\Local\\anaconda3\\envs\\rag_pipeline\\lib\\site-packages\\langchain_core\\language_models\\chat_models.py:223\u001b[0m, in \u001b[0;36mBaseChatModel.stream\u001b[1;34m(self, input, config, stop, **kwargs)\u001b[0m\n\u001b[0;32m    221\u001b[0m generation: Optional[ChatGenerationChunk] \u001b[38;5;241m=\u001b[39m \u001b[38;5;28;01mNone\u001b[39;00m\n\u001b[0;32m    222\u001b[0m \u001b[38;5;28;01mtry\u001b[39;00m:\n\u001b[1;32m--> 223\u001b[0m     \u001b[38;5;28;01mfor\u001b[39;00m chunk \u001b[38;5;129;01min\u001b[39;00m \u001b[38;5;28mself\u001b[39m\u001b[38;5;241m.\u001b[39m_stream(messages, stop\u001b[38;5;241m=\u001b[39mstop, \u001b[38;5;241m*\u001b[39m\u001b[38;5;241m*\u001b[39mkwargs):\n\u001b[0;32m    224\u001b[0m         \u001b[38;5;28;01mif\u001b[39;00m chunk\u001b[38;5;241m.\u001b[39mmessage\u001b[38;5;241m.\u001b[39mid \u001b[38;5;129;01mis\u001b[39;00m \u001b[38;5;28;01mNone\u001b[39;00m:\n\u001b[0;32m    225\u001b[0m             chunk\u001b[38;5;241m.\u001b[39mmessage\u001b[38;5;241m.\u001b[39mid \u001b[38;5;241m=\u001b[39m \u001b[38;5;124mf\u001b[39m\u001b[38;5;124m\"\u001b[39m\u001b[38;5;124mrun-\u001b[39m\u001b[38;5;132;01m{\u001b[39;00mrun_manager\u001b[38;5;241m.\u001b[39mrun_id\u001b[38;5;132;01m}\u001b[39;00m\u001b[38;5;124m\"\u001b[39m\n",
      "File \u001b[1;32mc:\\Users\\arjun.sreekumar\\AppData\\Local\\anaconda3\\envs\\rag_pipeline\\lib\\site-packages\\langchain_google_genai\\chat_models.py:587\u001b[0m, in \u001b[0;36mChatGoogleGenerativeAI._stream\u001b[1;34m(self, messages, stop, run_manager, **kwargs)\u001b[0m\n\u001b[0;32m    575\u001b[0m \u001b[38;5;28;01mdef\u001b[39;00m \u001b[38;5;21m_stream\u001b[39m(\n\u001b[0;32m    576\u001b[0m     \u001b[38;5;28mself\u001b[39m,\n\u001b[0;32m    577\u001b[0m     messages: List[BaseMessage],\n\u001b[1;32m   (...)\u001b[0m\n\u001b[0;32m    580\u001b[0m     \u001b[38;5;241m*\u001b[39m\u001b[38;5;241m*\u001b[39mkwargs: Any,\n\u001b[0;32m    581\u001b[0m ) \u001b[38;5;241m-\u001b[39m\u001b[38;5;241m>\u001b[39m Iterator[ChatGenerationChunk]:\n\u001b[0;32m    582\u001b[0m     params, chat, message \u001b[38;5;241m=\u001b[39m \u001b[38;5;28mself\u001b[39m\u001b[38;5;241m.\u001b[39m_prepare_chat(\n\u001b[0;32m    583\u001b[0m         messages,\n\u001b[0;32m    584\u001b[0m         stop\u001b[38;5;241m=\u001b[39mstop,\n\u001b[0;32m    585\u001b[0m         \u001b[38;5;241m*\u001b[39m\u001b[38;5;241m*\u001b[39mkwargs,\n\u001b[0;32m    586\u001b[0m     )\n\u001b[1;32m--> 587\u001b[0m     response: genai\u001b[38;5;241m.\u001b[39mtypes\u001b[38;5;241m.\u001b[39mGenerateContentResponse \u001b[38;5;241m=\u001b[39m _chat_with_retry(\n\u001b[0;32m    588\u001b[0m         content\u001b[38;5;241m=\u001b[39mmessage,\n\u001b[0;32m    589\u001b[0m         \u001b[38;5;241m*\u001b[39m\u001b[38;5;241m*\u001b[39mparams,\n\u001b[0;32m    590\u001b[0m         generation_method\u001b[38;5;241m=\u001b[39mchat\u001b[38;5;241m.\u001b[39msend_message,\n\u001b[0;32m    591\u001b[0m         stream\u001b[38;5;241m=\u001b[39m\u001b[38;5;28;01mTrue\u001b[39;00m,\n\u001b[0;32m    592\u001b[0m     )\n\u001b[0;32m    593\u001b[0m     \u001b[38;5;28;01mfor\u001b[39;00m chunk \u001b[38;5;129;01min\u001b[39;00m response:\n\u001b[0;32m    594\u001b[0m         _chat_result \u001b[38;5;241m=\u001b[39m _response_to_result(chunk, stream\u001b[38;5;241m=\u001b[39m\u001b[38;5;28;01mTrue\u001b[39;00m)\n",
      "File \u001b[1;32mc:\\Users\\arjun.sreekumar\\AppData\\Local\\anaconda3\\envs\\rag_pipeline\\lib\\site-packages\\langchain_google_genai\\chat_models.py:153\u001b[0m, in \u001b[0;36m_chat_with_retry\u001b[1;34m(generation_method, **kwargs)\u001b[0m\n\u001b[0;32m    150\u001b[0m     \u001b[38;5;28;01mexcept\u001b[39;00m \u001b[38;5;167;01mException\u001b[39;00m \u001b[38;5;28;01mas\u001b[39;00m e:\n\u001b[0;32m    151\u001b[0m         \u001b[38;5;28;01mraise\u001b[39;00m e\n\u001b[1;32m--> 153\u001b[0m \u001b[38;5;28;01mreturn\u001b[39;00m _chat_with_retry(\u001b[38;5;241m*\u001b[39m\u001b[38;5;241m*\u001b[39mkwargs)\n",
      "File \u001b[1;32mc:\\Users\\arjun.sreekumar\\AppData\\Local\\anaconda3\\envs\\rag_pipeline\\lib\\site-packages\\tenacity\\__init__.py:289\u001b[0m, in \u001b[0;36mBaseRetrying.wraps.<locals>.wrapped_f\u001b[1;34m(*args, **kw)\u001b[0m\n\u001b[0;32m    287\u001b[0m \u001b[38;5;129m@functools\u001b[39m\u001b[38;5;241m.\u001b[39mwraps(f)\n\u001b[0;32m    288\u001b[0m \u001b[38;5;28;01mdef\u001b[39;00m \u001b[38;5;21mwrapped_f\u001b[39m(\u001b[38;5;241m*\u001b[39margs: t\u001b[38;5;241m.\u001b[39mAny, \u001b[38;5;241m*\u001b[39m\u001b[38;5;241m*\u001b[39mkw: t\u001b[38;5;241m.\u001b[39mAny) \u001b[38;5;241m-\u001b[39m\u001b[38;5;241m>\u001b[39m t\u001b[38;5;241m.\u001b[39mAny:\n\u001b[1;32m--> 289\u001b[0m     \u001b[38;5;28;01mreturn\u001b[39;00m \u001b[38;5;28mself\u001b[39m(f, \u001b[38;5;241m*\u001b[39margs, \u001b[38;5;241m*\u001b[39m\u001b[38;5;241m*\u001b[39mkw)\n",
      "File \u001b[1;32mc:\\Users\\arjun.sreekumar\\AppData\\Local\\anaconda3\\envs\\rag_pipeline\\lib\\site-packages\\tenacity\\__init__.py:379\u001b[0m, in \u001b[0;36mRetrying.__call__\u001b[1;34m(self, fn, *args, **kwargs)\u001b[0m\n\u001b[0;32m    377\u001b[0m retry_state \u001b[38;5;241m=\u001b[39m RetryCallState(retry_object\u001b[38;5;241m=\u001b[39m\u001b[38;5;28mself\u001b[39m, fn\u001b[38;5;241m=\u001b[39mfn, args\u001b[38;5;241m=\u001b[39margs, kwargs\u001b[38;5;241m=\u001b[39mkwargs)\n\u001b[0;32m    378\u001b[0m \u001b[38;5;28;01mwhile\u001b[39;00m \u001b[38;5;28;01mTrue\u001b[39;00m:\n\u001b[1;32m--> 379\u001b[0m     do \u001b[38;5;241m=\u001b[39m \u001b[38;5;28;43mself\u001b[39;49m\u001b[38;5;241;43m.\u001b[39;49m\u001b[43miter\u001b[49m\u001b[43m(\u001b[49m\u001b[43mretry_state\u001b[49m\u001b[38;5;241;43m=\u001b[39;49m\u001b[43mretry_state\u001b[49m\u001b[43m)\u001b[49m\n\u001b[0;32m    380\u001b[0m     \u001b[38;5;28;01mif\u001b[39;00m \u001b[38;5;28misinstance\u001b[39m(do, DoAttempt):\n\u001b[0;32m    381\u001b[0m         \u001b[38;5;28;01mtry\u001b[39;00m:\n",
      "File \u001b[1;32mc:\\Users\\arjun.sreekumar\\AppData\\Local\\anaconda3\\envs\\rag_pipeline\\lib\\site-packages\\tenacity\\__init__.py:314\u001b[0m, in \u001b[0;36mBaseRetrying.iter\u001b[1;34m(self, retry_state)\u001b[0m\n\u001b[0;32m    312\u001b[0m is_explicit_retry \u001b[38;5;241m=\u001b[39m fut\u001b[38;5;241m.\u001b[39mfailed \u001b[38;5;129;01mand\u001b[39;00m \u001b[38;5;28misinstance\u001b[39m(fut\u001b[38;5;241m.\u001b[39mexception(), TryAgain)\n\u001b[0;32m    313\u001b[0m \u001b[38;5;28;01mif\u001b[39;00m \u001b[38;5;129;01mnot\u001b[39;00m (is_explicit_retry \u001b[38;5;129;01mor\u001b[39;00m \u001b[38;5;28mself\u001b[39m\u001b[38;5;241m.\u001b[39mretry(retry_state)):\n\u001b[1;32m--> 314\u001b[0m     \u001b[38;5;28;01mreturn\u001b[39;00m \u001b[43mfut\u001b[49m\u001b[38;5;241;43m.\u001b[39;49m\u001b[43mresult\u001b[49m\u001b[43m(\u001b[49m\u001b[43m)\u001b[49m\n\u001b[0;32m    316\u001b[0m \u001b[38;5;28;01mif\u001b[39;00m \u001b[38;5;28mself\u001b[39m\u001b[38;5;241m.\u001b[39mafter \u001b[38;5;129;01mis\u001b[39;00m \u001b[38;5;129;01mnot\u001b[39;00m \u001b[38;5;28;01mNone\u001b[39;00m:\n\u001b[0;32m    317\u001b[0m     \u001b[38;5;28mself\u001b[39m\u001b[38;5;241m.\u001b[39mafter(retry_state)\n",
      "File \u001b[1;32mc:\\Users\\arjun.sreekumar\\AppData\\Local\\anaconda3\\envs\\rag_pipeline\\lib\\concurrent\\futures\\_base.py:438\u001b[0m, in \u001b[0;36mFuture.result\u001b[1;34m(self, timeout)\u001b[0m\n\u001b[0;32m    436\u001b[0m     \u001b[38;5;28;01mraise\u001b[39;00m CancelledError()\n\u001b[0;32m    437\u001b[0m \u001b[38;5;28;01melif\u001b[39;00m \u001b[38;5;28mself\u001b[39m\u001b[38;5;241m.\u001b[39m_state \u001b[38;5;241m==\u001b[39m FINISHED:\n\u001b[1;32m--> 438\u001b[0m     \u001b[38;5;28;01mreturn\u001b[39;00m \u001b[38;5;28;43mself\u001b[39;49m\u001b[38;5;241;43m.\u001b[39;49m\u001b[43m__get_result\u001b[49m\u001b[43m(\u001b[49m\u001b[43m)\u001b[49m\n\u001b[0;32m    440\u001b[0m \u001b[38;5;28mself\u001b[39m\u001b[38;5;241m.\u001b[39m_condition\u001b[38;5;241m.\u001b[39mwait(timeout)\n\u001b[0;32m    442\u001b[0m \u001b[38;5;28;01mif\u001b[39;00m \u001b[38;5;28mself\u001b[39m\u001b[38;5;241m.\u001b[39m_state \u001b[38;5;129;01min\u001b[39;00m [CANCELLED, CANCELLED_AND_NOTIFIED]:\n",
      "File \u001b[1;32mc:\\Users\\arjun.sreekumar\\AppData\\Local\\anaconda3\\envs\\rag_pipeline\\lib\\concurrent\\futures\\_base.py:390\u001b[0m, in \u001b[0;36mFuture.__get_result\u001b[1;34m(self)\u001b[0m\n\u001b[0;32m    388\u001b[0m \u001b[38;5;28;01mif\u001b[39;00m \u001b[38;5;28mself\u001b[39m\u001b[38;5;241m.\u001b[39m_exception:\n\u001b[0;32m    389\u001b[0m     \u001b[38;5;28;01mtry\u001b[39;00m:\n\u001b[1;32m--> 390\u001b[0m         \u001b[38;5;28;01mraise\u001b[39;00m \u001b[38;5;28mself\u001b[39m\u001b[38;5;241m.\u001b[39m_exception\n\u001b[0;32m    391\u001b[0m     \u001b[38;5;28;01mfinally\u001b[39;00m:\n\u001b[0;32m    392\u001b[0m         \u001b[38;5;66;03m# Break a reference cycle with the exception in self._exception\u001b[39;00m\n\u001b[0;32m    393\u001b[0m         \u001b[38;5;28mself\u001b[39m \u001b[38;5;241m=\u001b[39m \u001b[38;5;28;01mNone\u001b[39;00m\n",
      "File \u001b[1;32mc:\\Users\\arjun.sreekumar\\AppData\\Local\\anaconda3\\envs\\rag_pipeline\\lib\\site-packages\\tenacity\\__init__.py:382\u001b[0m, in \u001b[0;36mRetrying.__call__\u001b[1;34m(self, fn, *args, **kwargs)\u001b[0m\n\u001b[0;32m    380\u001b[0m \u001b[38;5;28;01mif\u001b[39;00m \u001b[38;5;28misinstance\u001b[39m(do, DoAttempt):\n\u001b[0;32m    381\u001b[0m     \u001b[38;5;28;01mtry\u001b[39;00m:\n\u001b[1;32m--> 382\u001b[0m         result \u001b[38;5;241m=\u001b[39m fn(\u001b[38;5;241m*\u001b[39margs, \u001b[38;5;241m*\u001b[39m\u001b[38;5;241m*\u001b[39mkwargs)\n\u001b[0;32m    383\u001b[0m     \u001b[38;5;28;01mexcept\u001b[39;00m \u001b[38;5;167;01mBaseException\u001b[39;00m:  \u001b[38;5;66;03m# noqa: B902\u001b[39;00m\n\u001b[0;32m    384\u001b[0m         retry_state\u001b[38;5;241m.\u001b[39mset_exception(sys\u001b[38;5;241m.\u001b[39mexc_info())  \u001b[38;5;66;03m# type: ignore[arg-type]\u001b[39;00m\n",
      "File \u001b[1;32mc:\\Users\\arjun.sreekumar\\AppData\\Local\\anaconda3\\envs\\rag_pipeline\\lib\\site-packages\\langchain_google_genai\\chat_models.py:151\u001b[0m, in \u001b[0;36m_chat_with_retry.<locals>._chat_with_retry\u001b[1;34m(**kwargs)\u001b[0m\n\u001b[0;32m    147\u001b[0m     \u001b[38;5;28;01mraise\u001b[39;00m ChatGoogleGenerativeAIError(\n\u001b[0;32m    148\u001b[0m         \u001b[38;5;124mf\u001b[39m\u001b[38;5;124m\"\u001b[39m\u001b[38;5;124mInvalid argument provided to Gemini: \u001b[39m\u001b[38;5;132;01m{\u001b[39;00me\u001b[38;5;132;01m}\u001b[39;00m\u001b[38;5;124m\"\u001b[39m\n\u001b[0;32m    149\u001b[0m     ) \u001b[38;5;28;01mfrom\u001b[39;00m \u001b[38;5;21;01me\u001b[39;00m\n\u001b[0;32m    150\u001b[0m \u001b[38;5;28;01mexcept\u001b[39;00m \u001b[38;5;167;01mException\u001b[39;00m \u001b[38;5;28;01mas\u001b[39;00m e:\n\u001b[1;32m--> 151\u001b[0m     \u001b[38;5;28;01mraise\u001b[39;00m e\n",
      "File \u001b[1;32mc:\\Users\\arjun.sreekumar\\AppData\\Local\\anaconda3\\envs\\rag_pipeline\\lib\\site-packages\\langchain_google_genai\\chat_models.py:135\u001b[0m, in \u001b[0;36m_chat_with_retry.<locals>._chat_with_retry\u001b[1;34m(**kwargs)\u001b[0m\n\u001b[0;32m    132\u001b[0m \u001b[38;5;129m@retry_decorator\u001b[39m\n\u001b[0;32m    133\u001b[0m \u001b[38;5;28;01mdef\u001b[39;00m \u001b[38;5;21m_chat_with_retry\u001b[39m(\u001b[38;5;241m*\u001b[39m\u001b[38;5;241m*\u001b[39mkwargs: Any) \u001b[38;5;241m-\u001b[39m\u001b[38;5;241m>\u001b[39m Any:\n\u001b[0;32m    134\u001b[0m     \u001b[38;5;28;01mtry\u001b[39;00m:\n\u001b[1;32m--> 135\u001b[0m         \u001b[38;5;28;01mreturn\u001b[39;00m generation_method(\u001b[38;5;241m*\u001b[39m\u001b[38;5;241m*\u001b[39mkwargs)\n\u001b[0;32m    136\u001b[0m     \u001b[38;5;66;03m# Do not retry for these errors.\u001b[39;00m\n\u001b[0;32m    137\u001b[0m     \u001b[38;5;28;01mexcept\u001b[39;00m google\u001b[38;5;241m.\u001b[39mapi_core\u001b[38;5;241m.\u001b[39mexceptions\u001b[38;5;241m.\u001b[39mFailedPrecondition \u001b[38;5;28;01mas\u001b[39;00m exc:\n",
      "File \u001b[1;32mc:\\Users\\arjun.sreekumar\\AppData\\Local\\anaconda3\\envs\\rag_pipeline\\lib\\site-packages\\google\\generativeai\\generative_models.py:460\u001b[0m, in \u001b[0;36mChatSession.send_message\u001b[1;34m(self, content, generation_config, safety_settings, stream, tools, tool_config)\u001b[0m\n\u001b[0;32m    454\u001b[0m \u001b[38;5;28;01mif\u001b[39;00m \u001b[38;5;28mself\u001b[39m\u001b[38;5;241m.\u001b[39menable_automatic_function_calling \u001b[38;5;129;01mand\u001b[39;00m stream:\n\u001b[0;32m    455\u001b[0m     \u001b[38;5;28;01mraise\u001b[39;00m \u001b[38;5;167;01mNotImplementedError\u001b[39;00m(\n\u001b[0;32m    456\u001b[0m         \u001b[38;5;124m\"\u001b[39m\u001b[38;5;124mThe `google.generativeai` SDK does not yet support `stream=True` with \u001b[39m\u001b[38;5;124m\"\u001b[39m\n\u001b[0;32m    457\u001b[0m         \u001b[38;5;124m\"\u001b[39m\u001b[38;5;124m`enable_automatic_function_calling=True`\u001b[39m\u001b[38;5;124m\"\u001b[39m\n\u001b[0;32m    458\u001b[0m     )\n\u001b[1;32m--> 460\u001b[0m tools_lib \u001b[38;5;241m=\u001b[39m \u001b[38;5;28;43mself\u001b[39;49m\u001b[38;5;241;43m.\u001b[39;49m\u001b[43mmodel\u001b[49m\u001b[38;5;241;43m.\u001b[39;49m\u001b[43m_get_tools_lib\u001b[49m\u001b[43m(\u001b[49m\u001b[43mtools\u001b[49m\u001b[43m)\u001b[49m\n\u001b[0;32m    462\u001b[0m content \u001b[38;5;241m=\u001b[39m content_types\u001b[38;5;241m.\u001b[39mto_content(content)\n\u001b[0;32m    464\u001b[0m \u001b[38;5;28;01mif\u001b[39;00m \u001b[38;5;129;01mnot\u001b[39;00m content\u001b[38;5;241m.\u001b[39mrole:\n",
      "File \u001b[1;32mc:\\Users\\arjun.sreekumar\\AppData\\Local\\anaconda3\\envs\\rag_pipeline\\lib\\site-packages\\google\\generativeai\\generative_models.py:173\u001b[0m, in \u001b[0;36mGenerativeModel._get_tools_lib\u001b[1;34m(self, tools)\u001b[0m\n\u001b[0;32m    171\u001b[0m     \u001b[38;5;28;01mreturn\u001b[39;00m \u001b[38;5;28mself\u001b[39m\u001b[38;5;241m.\u001b[39m_tools\n\u001b[0;32m    172\u001b[0m \u001b[38;5;28;01melse\u001b[39;00m:\n\u001b[1;32m--> 173\u001b[0m     \u001b[38;5;28;01mreturn\u001b[39;00m \u001b[43mcontent_types\u001b[49m\u001b[38;5;241;43m.\u001b[39;49m\u001b[43mto_function_library\u001b[49m\u001b[43m(\u001b[49m\u001b[43mtools\u001b[49m\u001b[43m)\u001b[49m\n",
      "File \u001b[1;32mc:\\Users\\arjun.sreekumar\\AppData\\Local\\anaconda3\\envs\\rag_pipeline\\lib\\site-packages\\google\\generativeai\\types\\content_types.py:663\u001b[0m, in \u001b[0;36mto_function_library\u001b[1;34m(lib)\u001b[0m\n\u001b[0;32m    661\u001b[0m     \u001b[38;5;28;01mreturn\u001b[39;00m lib\n\u001b[0;32m    662\u001b[0m \u001b[38;5;28;01melse\u001b[39;00m:\n\u001b[1;32m--> 663\u001b[0m     \u001b[38;5;28;01mreturn\u001b[39;00m \u001b[43mFunctionLibrary\u001b[49m\u001b[43m(\u001b[49m\u001b[43mtools\u001b[49m\u001b[38;5;241;43m=\u001b[39;49m\u001b[43mlib\u001b[49m\u001b[43m)\u001b[49m\n",
      "File \u001b[1;32mc:\\Users\\arjun.sreekumar\\AppData\\Local\\anaconda3\\envs\\rag_pipeline\\lib\\site-packages\\google\\generativeai\\types\\content_types.py:606\u001b[0m, in \u001b[0;36mFunctionLibrary.__init__\u001b[1;34m(self, tools)\u001b[0m\n\u001b[0;32m    605\u001b[0m \u001b[38;5;28;01mdef\u001b[39;00m \u001b[38;5;21m__init__\u001b[39m(\u001b[38;5;28mself\u001b[39m, tools: Iterable[ToolType]):\n\u001b[1;32m--> 606\u001b[0m     tools \u001b[38;5;241m=\u001b[39m \u001b[43m_make_tools\u001b[49m\u001b[43m(\u001b[49m\u001b[43mtools\u001b[49m\u001b[43m)\u001b[49m\n\u001b[0;32m    607\u001b[0m     \u001b[38;5;28mself\u001b[39m\u001b[38;5;241m.\u001b[39m_tools \u001b[38;5;241m=\u001b[39m \u001b[38;5;28mlist\u001b[39m(tools)\n\u001b[0;32m    608\u001b[0m     \u001b[38;5;28mself\u001b[39m\u001b[38;5;241m.\u001b[39m_index \u001b[38;5;241m=\u001b[39m {}\n",
      "File \u001b[1;32mc:\\Users\\arjun.sreekumar\\AppData\\Local\\anaconda3\\envs\\rag_pipeline\\lib\\site-packages\\google\\generativeai\\types\\content_types.py:644\u001b[0m, in \u001b[0;36m_make_tools\u001b[1;34m(tools)\u001b[0m\n\u001b[0;32m    642\u001b[0m \u001b[38;5;28;01mdef\u001b[39;00m \u001b[38;5;21m_make_tools\u001b[39m(tools: ToolsType) \u001b[38;5;241m-\u001b[39m\u001b[38;5;241m>\u001b[39m \u001b[38;5;28mlist\u001b[39m[Tool]:\n\u001b[0;32m    643\u001b[0m     \u001b[38;5;28;01mif\u001b[39;00m \u001b[38;5;28misinstance\u001b[39m(tools, Iterable) \u001b[38;5;129;01mand\u001b[39;00m \u001b[38;5;129;01mnot\u001b[39;00m \u001b[38;5;28misinstance\u001b[39m(tools, Mapping):\n\u001b[1;32m--> 644\u001b[0m         tools \u001b[38;5;241m=\u001b[39m [_make_tool(t) \u001b[38;5;28;01mfor\u001b[39;00m t \u001b[38;5;129;01min\u001b[39;00m tools]\n\u001b[0;32m    645\u001b[0m         \u001b[38;5;28;01mif\u001b[39;00m \u001b[38;5;28mlen\u001b[39m(tools) \u001b[38;5;241m>\u001b[39m \u001b[38;5;241m1\u001b[39m \u001b[38;5;129;01mand\u001b[39;00m \u001b[38;5;28mall\u001b[39m(\u001b[38;5;28mlen\u001b[39m(t\u001b[38;5;241m.\u001b[39mfunction_declarations) \u001b[38;5;241m==\u001b[39m \u001b[38;5;241m1\u001b[39m \u001b[38;5;28;01mfor\u001b[39;00m t \u001b[38;5;129;01min\u001b[39;00m tools):\n\u001b[0;32m    646\u001b[0m             \u001b[38;5;66;03m# flatten into a single tool.\u001b[39;00m\n\u001b[0;32m    647\u001b[0m             tools \u001b[38;5;241m=\u001b[39m [_make_tool([t\u001b[38;5;241m.\u001b[39mfunction_declarations[\u001b[38;5;241m0\u001b[39m] \u001b[38;5;28;01mfor\u001b[39;00m t \u001b[38;5;129;01min\u001b[39;00m tools])]\n",
      "File \u001b[1;32mc:\\Users\\arjun.sreekumar\\AppData\\Local\\anaconda3\\envs\\rag_pipeline\\lib\\site-packages\\google\\generativeai\\types\\content_types.py:644\u001b[0m, in \u001b[0;36m<listcomp>\u001b[1;34m(.0)\u001b[0m\n\u001b[0;32m    642\u001b[0m \u001b[38;5;28;01mdef\u001b[39;00m \u001b[38;5;21m_make_tools\u001b[39m(tools: ToolsType) \u001b[38;5;241m-\u001b[39m\u001b[38;5;241m>\u001b[39m \u001b[38;5;28mlist\u001b[39m[Tool]:\n\u001b[0;32m    643\u001b[0m     \u001b[38;5;28;01mif\u001b[39;00m \u001b[38;5;28misinstance\u001b[39m(tools, Iterable) \u001b[38;5;129;01mand\u001b[39;00m \u001b[38;5;129;01mnot\u001b[39;00m \u001b[38;5;28misinstance\u001b[39m(tools, Mapping):\n\u001b[1;32m--> 644\u001b[0m         tools \u001b[38;5;241m=\u001b[39m [\u001b[43m_make_tool\u001b[49m\u001b[43m(\u001b[49m\u001b[43mt\u001b[49m\u001b[43m)\u001b[49m \u001b[38;5;28;01mfor\u001b[39;00m t \u001b[38;5;129;01min\u001b[39;00m tools]\n\u001b[0;32m    645\u001b[0m         \u001b[38;5;28;01mif\u001b[39;00m \u001b[38;5;28mlen\u001b[39m(tools) \u001b[38;5;241m>\u001b[39m \u001b[38;5;241m1\u001b[39m \u001b[38;5;129;01mand\u001b[39;00m \u001b[38;5;28mall\u001b[39m(\u001b[38;5;28mlen\u001b[39m(t\u001b[38;5;241m.\u001b[39mfunction_declarations) \u001b[38;5;241m==\u001b[39m \u001b[38;5;241m1\u001b[39m \u001b[38;5;28;01mfor\u001b[39;00m t \u001b[38;5;129;01min\u001b[39;00m tools):\n\u001b[0;32m    646\u001b[0m             \u001b[38;5;66;03m# flatten into a single tool.\u001b[39;00m\n\u001b[0;32m    647\u001b[0m             tools \u001b[38;5;241m=\u001b[39m [_make_tool([t\u001b[38;5;241m.\u001b[39mfunction_declarations[\u001b[38;5;241m0\u001b[39m] \u001b[38;5;28;01mfor\u001b[39;00m t \u001b[38;5;129;01min\u001b[39;00m tools])]\n",
      "File \u001b[1;32mc:\\Users\\arjun.sreekumar\\AppData\\Local\\anaconda3\\envs\\rag_pipeline\\lib\\site-packages\\google\\generativeai\\types\\content_types.py:589\u001b[0m, in \u001b[0;36m_make_tool\u001b[1;34m(tool)\u001b[0m\n\u001b[0;32m    587\u001b[0m     \u001b[38;5;28;01melse\u001b[39;00m:\n\u001b[0;32m    588\u001b[0m         fd \u001b[38;5;241m=\u001b[39m tool\n\u001b[1;32m--> 589\u001b[0m         \u001b[38;5;28;01mreturn\u001b[39;00m Tool(function_declarations\u001b[38;5;241m=\u001b[39m[glm\u001b[38;5;241m.\u001b[39mFunctionDeclaration(\u001b[38;5;241m*\u001b[39m\u001b[38;5;241m*\u001b[39mfd)])\n\u001b[0;32m    590\u001b[0m \u001b[38;5;28;01melif\u001b[39;00m \u001b[38;5;28misinstance\u001b[39m(tool, Iterable):\n\u001b[0;32m    591\u001b[0m     \u001b[38;5;28;01mreturn\u001b[39;00m Tool(function_declarations\u001b[38;5;241m=\u001b[39mtool)\n",
      "File \u001b[1;32mc:\\Users\\arjun.sreekumar\\AppData\\Local\\anaconda3\\envs\\rag_pipeline\\lib\\site-packages\\proto\\message.py:576\u001b[0m, in \u001b[0;36mMessage.__init__\u001b[1;34m(self, mapping, ignore_unknown_fields, **kwargs)\u001b[0m\n\u001b[0;32m    573\u001b[0m     \u001b[38;5;28;01mif\u001b[39;00m ignore_unknown_fields:\n\u001b[0;32m    574\u001b[0m         \u001b[38;5;28;01mcontinue\u001b[39;00m\n\u001b[1;32m--> 576\u001b[0m     \u001b[38;5;28;01mraise\u001b[39;00m \u001b[38;5;167;01mValueError\u001b[39;00m(\n\u001b[0;32m    577\u001b[0m         \u001b[38;5;124m\"\u001b[39m\u001b[38;5;124mUnknown field for \u001b[39m\u001b[38;5;132;01m{}\u001b[39;00m\u001b[38;5;124m: \u001b[39m\u001b[38;5;132;01m{}\u001b[39;00m\u001b[38;5;124m\"\u001b[39m\u001b[38;5;241m.\u001b[39mformat(\u001b[38;5;28mself\u001b[39m\u001b[38;5;241m.\u001b[39m\u001b[38;5;18m__class__\u001b[39m\u001b[38;5;241m.\u001b[39m\u001b[38;5;18m__name__\u001b[39m, key)\n\u001b[0;32m    578\u001b[0m     )\n\u001b[0;32m    580\u001b[0m \u001b[38;5;28;01mtry\u001b[39;00m:\n\u001b[0;32m    581\u001b[0m     pb_value \u001b[38;5;241m=\u001b[39m marshal\u001b[38;5;241m.\u001b[39mto_proto(pb_type, value)\n",
      "\u001b[1;31mValueError\u001b[0m: Unknown field for FunctionDeclaration: type"
     ]
    }
   ],
   "source": [
    "agent_executor.invoke({\"input\":\"tell me about langserve\"})"
   ]
  },
  {
   "cell_type": "code",
   "execution_count": 29,
   "metadata": {},
   "outputs": [
    {
     "name": "stdout",
     "output_type": "stream",
     "text": [
      "Requirement already satisfied: langchain-cli in c:\\users\\arjun.sreekumar\\appdata\\local\\anaconda3\\envs\\rag_pipeline\\lib\\site-packages (0.0.21)\n",
      "Requirement already satisfied: gitpython<4.0.0,>=3.1.40 in c:\\users\\arjun.sreekumar\\appdata\\local\\anaconda3\\envs\\rag_pipeline\\lib\\site-packages (from langchain-cli) (3.1.43)\n",
      "Requirement already satisfied: langserve>=0.0.16 in c:\\users\\arjun.sreekumar\\appdata\\local\\anaconda3\\envs\\rag_pipeline\\lib\\site-packages (from langserve[all]>=0.0.16->langchain-cli) (0.0.51)\n",
      "Requirement already satisfied: tomlkit<0.13.0,>=0.12.2 in c:\\users\\arjun.sreekumar\\appdata\\local\\anaconda3\\envs\\rag_pipeline\\lib\\site-packages (from langchain-cli) (0.12.4)\n",
      "Requirement already satisfied: typer<0.10.0,>=0.9.0 in c:\\users\\arjun.sreekumar\\appdata\\local\\anaconda3\\envs\\rag_pipeline\\lib\\site-packages (from typer[all]<0.10.0,>=0.9.0->langchain-cli) (0.9.4)\n",
      "Requirement already satisfied: uvicorn<0.24.0,>=0.23.2 in c:\\users\\arjun.sreekumar\\appdata\\local\\anaconda3\\envs\\rag_pipeline\\lib\\site-packages (from langchain-cli) (0.23.2)\n",
      "Requirement already satisfied: gitdb<5,>=4.0.1 in c:\\users\\arjun.sreekumar\\appdata\\local\\anaconda3\\envs\\rag_pipeline\\lib\\site-packages (from gitpython<4.0.0,>=3.1.40->langchain-cli) (4.0.11)\n",
      "Requirement already satisfied: httpx>=0.23.0 in c:\\users\\arjun.sreekumar\\appdata\\local\\anaconda3\\envs\\rag_pipeline\\lib\\site-packages (from langserve>=0.0.16->langserve[all]>=0.0.16->langchain-cli) (0.27.0)\n",
      "Requirement already satisfied: langchain>=0.0.333 in c:\\users\\arjun.sreekumar\\appdata\\local\\anaconda3\\envs\\rag_pipeline\\lib\\site-packages (from langserve>=0.0.16->langserve[all]>=0.0.16->langchain-cli) (0.1.14)\n",
      "Requirement already satisfied: orjson>=2 in c:\\users\\arjun.sreekumar\\appdata\\local\\anaconda3\\envs\\rag_pipeline\\lib\\site-packages (from langserve>=0.0.16->langserve[all]>=0.0.16->langchain-cli) (3.10.0)\n",
      "Requirement already satisfied: pydantic>=1 in c:\\users\\arjun.sreekumar\\appdata\\local\\anaconda3\\envs\\rag_pipeline\\lib\\site-packages (from langserve>=0.0.16->langserve[all]>=0.0.16->langchain-cli) (2.6.4)\n",
      "Requirement already satisfied: fastapi<1,>=0.90.1 in c:\\users\\arjun.sreekumar\\appdata\\local\\anaconda3\\envs\\rag_pipeline\\lib\\site-packages (from langserve[all]>=0.0.16->langchain-cli) (0.110.1)\n",
      "Requirement already satisfied: httpx-sse>=0.3.1 in c:\\users\\arjun.sreekumar\\appdata\\local\\anaconda3\\envs\\rag_pipeline\\lib\\site-packages (from langserve[all]>=0.0.16->langchain-cli) (0.4.0)\n",
      "Requirement already satisfied: sse-starlette<2.0.0,>=1.3.0 in c:\\users\\arjun.sreekumar\\appdata\\local\\anaconda3\\envs\\rag_pipeline\\lib\\site-packages (from langserve[all]>=0.0.16->langchain-cli) (1.8.2)\n",
      "Requirement already satisfied: click<9.0.0,>=7.1.1 in c:\\users\\arjun.sreekumar\\appdata\\local\\anaconda3\\envs\\rag_pipeline\\lib\\site-packages (from typer<0.10.0,>=0.9.0->typer[all]<0.10.0,>=0.9.0->langchain-cli) (8.1.7)\n",
      "Requirement already satisfied: typing-extensions>=3.7.4.3 in c:\\users\\arjun.sreekumar\\appdata\\local\\anaconda3\\envs\\rag_pipeline\\lib\\site-packages (from typer<0.10.0,>=0.9.0->typer[all]<0.10.0,>=0.9.0->langchain-cli) (4.11.0)\n",
      "Requirement already satisfied: colorama<0.5.0,>=0.4.3 in c:\\users\\arjun.sreekumar\\appdata\\local\\anaconda3\\envs\\rag_pipeline\\lib\\site-packages (from typer[all]<0.10.0,>=0.9.0->langchain-cli) (0.4.6)\n",
      "Requirement already satisfied: shellingham<2.0.0,>=1.3.0 in c:\\users\\arjun.sreekumar\\appdata\\local\\anaconda3\\envs\\rag_pipeline\\lib\\site-packages (from typer[all]<0.10.0,>=0.9.0->langchain-cli) (1.5.4)\n",
      "Requirement already satisfied: rich<14.0.0,>=10.11.0 in c:\\users\\arjun.sreekumar\\appdata\\local\\anaconda3\\envs\\rag_pipeline\\lib\\site-packages (from typer[all]<0.10.0,>=0.9.0->langchain-cli) (13.7.1)\n",
      "Requirement already satisfied: h11>=0.8 in c:\\users\\arjun.sreekumar\\appdata\\local\\anaconda3\\envs\\rag_pipeline\\lib\\site-packages (from uvicorn<0.24.0,>=0.23.2->langchain-cli) (0.14.0)\n",
      "Requirement already satisfied: starlette<0.38.0,>=0.37.2 in c:\\users\\arjun.sreekumar\\appdata\\local\\anaconda3\\envs\\rag_pipeline\\lib\\site-packages (from fastapi<1,>=0.90.1->langserve[all]>=0.0.16->langchain-cli) (0.37.2)\n",
      "Requirement already satisfied: smmap<6,>=3.0.1 in c:\\users\\arjun.sreekumar\\appdata\\local\\anaconda3\\envs\\rag_pipeline\\lib\\site-packages (from gitdb<5,>=4.0.1->gitpython<4.0.0,>=3.1.40->langchain-cli) (5.0.1)\n",
      "Requirement already satisfied: anyio in c:\\users\\arjun.sreekumar\\appdata\\local\\anaconda3\\envs\\rag_pipeline\\lib\\site-packages (from httpx>=0.23.0->langserve>=0.0.16->langserve[all]>=0.0.16->langchain-cli) (4.3.0)\n",
      "Requirement already satisfied: certifi in c:\\users\\arjun.sreekumar\\appdata\\local\\anaconda3\\envs\\rag_pipeline\\lib\\site-packages (from httpx>=0.23.0->langserve>=0.0.16->langserve[all]>=0.0.16->langchain-cli) (2024.2.2)\n",
      "Requirement already satisfied: httpcore==1.* in c:\\users\\arjun.sreekumar\\appdata\\local\\anaconda3\\envs\\rag_pipeline\\lib\\site-packages (from httpx>=0.23.0->langserve>=0.0.16->langserve[all]>=0.0.16->langchain-cli) (1.0.5)\n",
      "Requirement already satisfied: idna in c:\\users\\arjun.sreekumar\\appdata\\local\\anaconda3\\envs\\rag_pipeline\\lib\\site-packages (from httpx>=0.23.0->langserve>=0.0.16->langserve[all]>=0.0.16->langchain-cli) (3.6)\n",
      "Requirement already satisfied: sniffio in c:\\users\\arjun.sreekumar\\appdata\\local\\anaconda3\\envs\\rag_pipeline\\lib\\site-packages (from httpx>=0.23.0->langserve>=0.0.16->langserve[all]>=0.0.16->langchain-cli) (1.3.1)\n",
      "Requirement already satisfied: PyYAML>=5.3 in c:\\users\\arjun.sreekumar\\appdata\\local\\anaconda3\\envs\\rag_pipeline\\lib\\site-packages (from langchain>=0.0.333->langserve>=0.0.16->langserve[all]>=0.0.16->langchain-cli) (6.0.1)\n",
      "Requirement already satisfied: SQLAlchemy<3,>=1.4 in c:\\users\\arjun.sreekumar\\appdata\\local\\anaconda3\\envs\\rag_pipeline\\lib\\site-packages (from langchain>=0.0.333->langserve>=0.0.16->langserve[all]>=0.0.16->langchain-cli) (2.0.29)\n",
      "Requirement already satisfied: aiohttp<4.0.0,>=3.8.3 in c:\\users\\arjun.sreekumar\\appdata\\local\\anaconda3\\envs\\rag_pipeline\\lib\\site-packages (from langchain>=0.0.333->langserve>=0.0.16->langserve[all]>=0.0.16->langchain-cli) (3.9.3)\n",
      "Requirement already satisfied: async-timeout<5.0.0,>=4.0.0 in c:\\users\\arjun.sreekumar\\appdata\\local\\anaconda3\\envs\\rag_pipeline\\lib\\site-packages (from langchain>=0.0.333->langserve>=0.0.16->langserve[all]>=0.0.16->langchain-cli) (4.0.3)\n",
      "Requirement already satisfied: dataclasses-json<0.7,>=0.5.7 in c:\\users\\arjun.sreekumar\\appdata\\local\\anaconda3\\envs\\rag_pipeline\\lib\\site-packages (from langchain>=0.0.333->langserve>=0.0.16->langserve[all]>=0.0.16->langchain-cli) (0.6.4)\n",
      "Requirement already satisfied: jsonpatch<2.0,>=1.33 in c:\\users\\arjun.sreekumar\\appdata\\local\\anaconda3\\envs\\rag_pipeline\\lib\\site-packages (from langchain>=0.0.333->langserve>=0.0.16->langserve[all]>=0.0.16->langchain-cli) (1.33)\n",
      "Requirement already satisfied: langchain-community<0.1,>=0.0.30 in c:\\users\\arjun.sreekumar\\appdata\\local\\anaconda3\\envs\\rag_pipeline\\lib\\site-packages (from langchain>=0.0.333->langserve>=0.0.16->langserve[all]>=0.0.16->langchain-cli) (0.0.31)\n",
      "Requirement already satisfied: langchain-core<0.2.0,>=0.1.37 in c:\\users\\arjun.sreekumar\\appdata\\local\\anaconda3\\envs\\rag_pipeline\\lib\\site-packages (from langchain>=0.0.333->langserve>=0.0.16->langserve[all]>=0.0.16->langchain-cli) (0.1.40)\n",
      "Requirement already satisfied: langchain-text-splitters<0.1,>=0.0.1 in c:\\users\\arjun.sreekumar\\appdata\\local\\anaconda3\\envs\\rag_pipeline\\lib\\site-packages (from langchain>=0.0.333->langserve>=0.0.16->langserve[all]>=0.0.16->langchain-cli) (0.0.1)\n",
      "Requirement already satisfied: langsmith<0.2.0,>=0.1.17 in c:\\users\\arjun.sreekumar\\appdata\\local\\anaconda3\\envs\\rag_pipeline\\lib\\site-packages (from langchain>=0.0.333->langserve>=0.0.16->langserve[all]>=0.0.16->langchain-cli) (0.1.40)\n",
      "Requirement already satisfied: numpy<2,>=1 in c:\\users\\arjun.sreekumar\\appdata\\local\\anaconda3\\envs\\rag_pipeline\\lib\\site-packages (from langchain>=0.0.333->langserve>=0.0.16->langserve[all]>=0.0.16->langchain-cli) (1.26.4)\n",
      "Requirement already satisfied: requests<3,>=2 in c:\\users\\arjun.sreekumar\\appdata\\local\\anaconda3\\envs\\rag_pipeline\\lib\\site-packages (from langchain>=0.0.333->langserve>=0.0.16->langserve[all]>=0.0.16->langchain-cli) (2.31.0)\n",
      "Requirement already satisfied: tenacity<9.0.0,>=8.1.0 in c:\\users\\arjun.sreekumar\\appdata\\local\\anaconda3\\envs\\rag_pipeline\\lib\\site-packages (from langchain>=0.0.333->langserve>=0.0.16->langserve[all]>=0.0.16->langchain-cli) (8.2.3)\n",
      "Requirement already satisfied: annotated-types>=0.4.0 in c:\\users\\arjun.sreekumar\\appdata\\local\\anaconda3\\envs\\rag_pipeline\\lib\\site-packages (from pydantic>=1->langserve>=0.0.16->langserve[all]>=0.0.16->langchain-cli) (0.6.0)\n",
      "Requirement already satisfied: pydantic-core==2.16.3 in c:\\users\\arjun.sreekumar\\appdata\\local\\anaconda3\\envs\\rag_pipeline\\lib\\site-packages (from pydantic>=1->langserve>=0.0.16->langserve[all]>=0.0.16->langchain-cli) (2.16.3)\n",
      "Requirement already satisfied: markdown-it-py>=2.2.0 in c:\\users\\arjun.sreekumar\\appdata\\local\\anaconda3\\envs\\rag_pipeline\\lib\\site-packages (from rich<14.0.0,>=10.11.0->typer[all]<0.10.0,>=0.9.0->langchain-cli) (3.0.0)\n",
      "Requirement already satisfied: pygments<3.0.0,>=2.13.0 in c:\\users\\arjun.sreekumar\\appdata\\local\\anaconda3\\envs\\rag_pipeline\\lib\\site-packages (from rich<14.0.0,>=10.11.0->typer[all]<0.10.0,>=0.9.0->langchain-cli) (2.17.2)\n",
      "Requirement already satisfied: aiosignal>=1.1.2 in c:\\users\\arjun.sreekumar\\appdata\\local\\anaconda3\\envs\\rag_pipeline\\lib\\site-packages (from aiohttp<4.0.0,>=3.8.3->langchain>=0.0.333->langserve>=0.0.16->langserve[all]>=0.0.16->langchain-cli) (1.3.1)\n",
      "Requirement already satisfied: attrs>=17.3.0 in c:\\users\\arjun.sreekumar\\appdata\\local\\anaconda3\\envs\\rag_pipeline\\lib\\site-packages (from aiohttp<4.0.0,>=3.8.3->langchain>=0.0.333->langserve>=0.0.16->langserve[all]>=0.0.16->langchain-cli) (23.2.0)\n",
      "Requirement already satisfied: frozenlist>=1.1.1 in c:\\users\\arjun.sreekumar\\appdata\\local\\anaconda3\\envs\\rag_pipeline\\lib\\site-packages (from aiohttp<4.0.0,>=3.8.3->langchain>=0.0.333->langserve>=0.0.16->langserve[all]>=0.0.16->langchain-cli) (1.4.1)\n",
      "Requirement already satisfied: multidict<7.0,>=4.5 in c:\\users\\arjun.sreekumar\\appdata\\local\\anaconda3\\envs\\rag_pipeline\\lib\\site-packages (from aiohttp<4.0.0,>=3.8.3->langchain>=0.0.333->langserve>=0.0.16->langserve[all]>=0.0.16->langchain-cli) (6.0.5)\n",
      "Requirement already satisfied: yarl<2.0,>=1.0 in c:\\users\\arjun.sreekumar\\appdata\\local\\anaconda3\\envs\\rag_pipeline\\lib\\site-packages (from aiohttp<4.0.0,>=3.8.3->langchain>=0.0.333->langserve>=0.0.16->langserve[all]>=0.0.16->langchain-cli) (1.9.4)\n",
      "Requirement already satisfied: marshmallow<4.0.0,>=3.18.0 in c:\\users\\arjun.sreekumar\\appdata\\local\\anaconda3\\envs\\rag_pipeline\\lib\\site-packages (from dataclasses-json<0.7,>=0.5.7->langchain>=0.0.333->langserve>=0.0.16->langserve[all]>=0.0.16->langchain-cli) (3.21.1)\n",
      "Requirement already satisfied: typing-inspect<1,>=0.4.0 in c:\\users\\arjun.sreekumar\\appdata\\local\\anaconda3\\envs\\rag_pipeline\\lib\\site-packages (from dataclasses-json<0.7,>=0.5.7->langchain>=0.0.333->langserve>=0.0.16->langserve[all]>=0.0.16->langchain-cli) (0.9.0)\n",
      "Requirement already satisfied: jsonpointer>=1.9 in c:\\users\\arjun.sreekumar\\appdata\\local\\anaconda3\\envs\\rag_pipeline\\lib\\site-packages (from jsonpatch<2.0,>=1.33->langchain>=0.0.333->langserve>=0.0.16->langserve[all]>=0.0.16->langchain-cli) (2.4)\n",
      "Requirement already satisfied: packaging<24.0,>=23.2 in c:\\users\\arjun.sreekumar\\appdata\\local\\anaconda3\\envs\\rag_pipeline\\lib\\site-packages (from langchain-core<0.2.0,>=0.1.37->langchain>=0.0.333->langserve>=0.0.16->langserve[all]>=0.0.16->langchain-cli) (23.2)\n",
      "Requirement already satisfied: mdurl~=0.1 in c:\\users\\arjun.sreekumar\\appdata\\local\\anaconda3\\envs\\rag_pipeline\\lib\\site-packages (from markdown-it-py>=2.2.0->rich<14.0.0,>=10.11.0->typer[all]<0.10.0,>=0.9.0->langchain-cli) (0.1.2)\n",
      "Requirement already satisfied: charset-normalizer<4,>=2 in c:\\users\\arjun.sreekumar\\appdata\\local\\anaconda3\\envs\\rag_pipeline\\lib\\site-packages (from requests<3,>=2->langchain>=0.0.333->langserve>=0.0.16->langserve[all]>=0.0.16->langchain-cli) (3.3.2)\n",
      "Requirement already satisfied: urllib3<3,>=1.21.1 in c:\\users\\arjun.sreekumar\\appdata\\local\\anaconda3\\envs\\rag_pipeline\\lib\\site-packages (from requests<3,>=2->langchain>=0.0.333->langserve>=0.0.16->langserve[all]>=0.0.16->langchain-cli) (2.2.1)\n",
      "Requirement already satisfied: greenlet!=0.4.17 in c:\\users\\arjun.sreekumar\\appdata\\local\\anaconda3\\envs\\rag_pipeline\\lib\\site-packages (from SQLAlchemy<3,>=1.4->langchain>=0.0.333->langserve>=0.0.16->langserve[all]>=0.0.16->langchain-cli) (3.0.3)\n",
      "Requirement already satisfied: exceptiongroup>=1.0.2 in c:\\users\\arjun.sreekumar\\appdata\\local\\anaconda3\\envs\\rag_pipeline\\lib\\site-packages (from anyio->httpx>=0.23.0->langserve>=0.0.16->langserve[all]>=0.0.16->langchain-cli) (1.2.0)\n",
      "Requirement already satisfied: mypy-extensions>=0.3.0 in c:\\users\\arjun.sreekumar\\appdata\\local\\anaconda3\\envs\\rag_pipeline\\lib\\site-packages (from typing-inspect<1,>=0.4.0->dataclasses-json<0.7,>=0.5.7->langchain>=0.0.333->langserve>=0.0.16->langserve[all]>=0.0.16->langchain-cli) (1.0.0)\n",
      "Note: you may need to restart the kernel to use updated packages.\n"
     ]
    }
   ],
   "source": [
    "pip install -U langchain-cli"
   ]
  },
  {
   "cell_type": "code",
   "execution_count": 34,
   "metadata": {},
   "outputs": [
    {
     "ename": "ModuleNotFoundError",
     "evalue": "No module named 'gemini_functions_agent'",
     "output_type": "error",
     "traceback": [
      "\u001b[1;31m---------------------------------------------------------------------------\u001b[0m",
      "\u001b[1;31mModuleNotFoundError\u001b[0m                       Traceback (most recent call last)",
      "Cell \u001b[1;32mIn[34], line 1\u001b[0m\n\u001b[1;32m----> 1\u001b[0m \u001b[38;5;28;01mfrom\u001b[39;00m \u001b[38;5;21;01mgemini_functions_agent\u001b[39;00m \u001b[38;5;28;01mimport\u001b[39;00m agent_executor\n\u001b[0;32m      3\u001b[0m agent_executor\u001b[38;5;241m.\u001b[39minvoke({\u001b[38;5;124m\"\u001b[39m\u001b[38;5;124minput\u001b[39m\u001b[38;5;124m\"\u001b[39m:\u001b[38;5;124m\"\u001b[39m\u001b[38;5;124mtell me about langserve\u001b[39m\u001b[38;5;124m\"\u001b[39m})\n\u001b[0;32m      5\u001b[0m \u001b[38;5;66;03m#add_routes(app, gemini_functions_agent_chain, path=\"/openai-functions-agent\")\u001b[39;00m\n",
      "\u001b[1;31mModuleNotFoundError\u001b[0m: No module named 'gemini_functions_agent'"
     ]
    }
   ],
   "source": [
    "from gemini_functions_agent import agent_executor\n",
    "\n",
    "agent_executor.invoke({\"input\":\"tell me about langserve\"})\n",
    "\n",
    "#add_routes(app, gemini_functions_agent_chain, path=\"/openai-functions-agent\")"
   ]
  },
  {
   "cell_type": "code",
   "execution_count": null,
   "metadata": {},
   "outputs": [],
   "source": []
  },
  {
   "cell_type": "code",
   "execution_count": null,
   "metadata": {},
   "outputs": [],
   "source": []
  }
 ],
 "metadata": {
  "kernelspec": {
   "display_name": "rag_pipeline",
   "language": "python",
   "name": "python3"
  },
  "language_info": {
   "codemirror_mode": {
    "name": "ipython",
    "version": 3
   },
   "file_extension": ".py",
   "mimetype": "text/x-python",
   "name": "python",
   "nbconvert_exporter": "python",
   "pygments_lexer": "ipython3",
   "version": "3.10.0"
  }
 },
 "nbformat": 4,
 "nbformat_minor": 2
}
